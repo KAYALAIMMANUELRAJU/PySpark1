{
  "nbformat": 4,
  "nbformat_minor": 0,
  "metadata": {
    "colab": {
      "provenance": [],
      "collapsed_sections": [
        "GUO7okyBshqq",
        "ijZbN5F4ttVO",
        "EpPnpP-oxBDw",
        "RCvuGCzBN8EW",
        "mCPIk367Ydfh",
        "2mPR-sWAi4zz"
      ],
      "authorship_tag": "ABX9TyOfCHp7ffUoCgqaKtzRDBl2",
      "include_colab_link": true
    },
    "kernelspec": {
      "name": "python3",
      "display_name": "Python 3"
    },
    "language_info": {
      "name": "python"
    }
  },
  "cells": [
    {
      "cell_type": "markdown",
      "metadata": {
        "id": "view-in-github",
        "colab_type": "text"
      },
      "source": [
        "<a href=\"https://colab.research.google.com/github/KAYALAIMMANUELRAJU/PySpark1/blob/main/(2)SecondDayPrograms.ipynb\" target=\"_parent\"><img src=\"https://colab.research.google.com/assets/colab-badge.svg\" alt=\"Open In Colab\"/></a>"
      ]
    },
    {
      "cell_type": "markdown",
      "source": [
        "## Linux Basic"
      ],
      "metadata": {
        "id": "GUO7okyBshqq"
      }
    },
    {
      "cell_type": "code",
      "execution_count": null,
      "metadata": {
        "colab": {
          "base_uri": "https://localhost:8080/"
        },
        "id": "ULvxSGiufh5a",
        "outputId": "5fecfe28-18a2-45f7-e7b6-46268780a917"
      },
      "outputs": [
        {
          "output_type": "stream",
          "name": "stdout",
          "text": [
            "My name is IMMANUEL\n"
          ]
        }
      ],
      "source": [
        "print(\"My name is IMMANUEL\")"
      ]
    },
    {
      "cell_type": "code",
      "source": [
        "!pwd"
      ],
      "metadata": {
        "colab": {
          "base_uri": "https://localhost:8080/"
        },
        "id": "FtYKaQ6YfzLY",
        "outputId": "dd586395-7a8e-4233-9995-63b221320b63"
      },
      "execution_count": null,
      "outputs": [
        {
          "output_type": "stream",
          "name": "stdout",
          "text": [
            "/content\n"
          ]
        }
      ]
    },
    {
      "cell_type": "code",
      "source": [
        "!cat /etc/os-release"
      ],
      "metadata": {
        "colab": {
          "base_uri": "https://localhost:8080/"
        },
        "id": "uIDdvXXOpnyB",
        "outputId": "b5aefd51-c53e-433c-f559-a6faa66adf67"
      },
      "execution_count": null,
      "outputs": [
        {
          "output_type": "stream",
          "name": "stdout",
          "text": [
            "PRETTY_NAME=\"Ubuntu 22.04.4 LTS\"\n",
            "NAME=\"Ubuntu\"\n",
            "VERSION_ID=\"22.04\"\n",
            "VERSION=\"22.04.4 LTS (Jammy Jellyfish)\"\n",
            "VERSION_CODENAME=jammy\n",
            "ID=ubuntu\n",
            "ID_LIKE=debian\n",
            "HOME_URL=\"https://www.ubuntu.com/\"\n",
            "SUPPORT_URL=\"https://help.ubuntu.com/\"\n",
            "BUG_REPORT_URL=\"https://bugs.launchpad.net/ubuntu/\"\n",
            "PRIVACY_POLICY_URL=\"https://www.ubuntu.com/legal/terms-and-policies/privacy-policy\"\n",
            "UBUNTU_CODENAME=jammy\n"
          ]
        }
      ]
    },
    {
      "cell_type": "code",
      "source": [
        "!uname -a"
      ],
      "metadata": {
        "colab": {
          "base_uri": "https://localhost:8080/"
        },
        "id": "bhZ0eUnEpwyD",
        "outputId": "ebe0475b-f8e3-4908-9300-3d8df4b9053c"
      },
      "execution_count": null,
      "outputs": [
        {
          "output_type": "stream",
          "name": "stdout",
          "text": [
            "Linux ad781dd04101 6.1.123+ #1 SMP PREEMPT_DYNAMIC Sun Mar 30 16:01:29 UTC 2025 x86_64 x86_64 x86_64 GNU/Linux\n"
          ]
        }
      ]
    },
    {
      "cell_type": "code",
      "source": [
        "!whoami"
      ],
      "metadata": {
        "colab": {
          "base_uri": "https://localhost:8080/"
        },
        "id": "lUcoAJwLp_N9",
        "outputId": "f1fca487-68c6-4abe-c2e2-3e6b84cf33ec"
      },
      "execution_count": null,
      "outputs": [
        {
          "output_type": "stream",
          "name": "stdout",
          "text": [
            "root\n"
          ]
        }
      ]
    },
    {
      "cell_type": "code",
      "source": [
        "!python --version"
      ],
      "metadata": {
        "colab": {
          "base_uri": "https://localhost:8080/"
        },
        "id": "wn9sE_F1qDsL",
        "outputId": "79b0cf88-5d70-4acd-c071-44bafd8bff3d"
      },
      "execution_count": null,
      "outputs": [
        {
          "output_type": "stream",
          "name": "stdout",
          "text": [
            "Python 3.11.13\n"
          ]
        }
      ]
    },
    {
      "cell_type": "markdown",
      "source": [
        "## PySpark Basics of DataFrame"
      ],
      "metadata": {
        "id": "ijZbN5F4ttVO"
      }
    },
    {
      "cell_type": "code",
      "source": [
        "!pip install pyspark"
      ],
      "metadata": {
        "colab": {
          "base_uri": "https://localhost:8080/"
        },
        "id": "aCU_gQrltx08",
        "outputId": "b8598214-9b97-4a40-aa6a-467f2a86e8a3"
      },
      "execution_count": null,
      "outputs": [
        {
          "output_type": "stream",
          "name": "stdout",
          "text": [
            "Requirement already satisfied: pyspark in /usr/local/lib/python3.11/dist-packages (3.5.1)\n",
            "Requirement already satisfied: py4j==0.10.9.7 in /usr/local/lib/python3.11/dist-packages (from pyspark) (0.10.9.7)\n"
          ]
        }
      ]
    },
    {
      "cell_type": "code",
      "source": [
        "!pyspark --version"
      ],
      "metadata": {
        "colab": {
          "base_uri": "https://localhost:8080/"
        },
        "id": "vNyJ0IHwt3fp",
        "outputId": "3f8ae306-b6ee-4be2-f502-dd7172c6da83"
      },
      "execution_count": null,
      "outputs": [
        {
          "output_type": "stream",
          "name": "stdout",
          "text": [
            "Welcome to\n",
            "      ____              __\n",
            "     / __/__  ___ _____/ /__\n",
            "    _\\ \\/ _ \\/ _ `/ __/  '_/\n",
            "   /___/ .__/\\_,_/_/ /_/\\_\\   version 3.5.1\n",
            "      /_/\n",
            "                        \n",
            "Using Scala version 2.12.18, OpenJDK 64-Bit Server VM, 11.0.27\n",
            "Branch HEAD\n",
            "Compiled by user heartsavior on 2024-02-15T11:24:58Z\n",
            "Revision fd86f85e181fc2dc0f50a096855acf83a6cc5d9c\n",
            "Url https://github.com/apache/spark\n",
            "Type --help for more information.\n"
          ]
        }
      ]
    },
    {
      "cell_type": "code",
      "source": [
        "from pyspark.sql import SparkSession"
      ],
      "metadata": {
        "id": "5spRMYV4t-LY"
      },
      "execution_count": null,
      "outputs": []
    },
    {
      "cell_type": "code",
      "source": [
        "spark = SparkSession.builder.appName(\"Basics\").getOrCreate()"
      ],
      "metadata": {
        "id": "jPpNpXkNuaca"
      },
      "execution_count": null,
      "outputs": []
    },
    {
      "cell_type": "code",
      "source": [
        "# Create DataFrame\n",
        "data = [(\"Hello\", \"World\")]\n",
        "columns = [\"Word1\", \"Word2\"]\n",
        "df = spark.createDataFrame(data, columns)"
      ],
      "metadata": {
        "id": "ht1wVILnu9ZT"
      },
      "execution_count": null,
      "outputs": []
    },
    {
      "cell_type": "code",
      "source": [
        "df.show()"
      ],
      "metadata": {
        "colab": {
          "base_uri": "https://localhost:8080/"
        },
        "id": "m47WqPudvhuI",
        "outputId": "2f106c18-35be-4264-bb0e-3ad4464a7458"
      },
      "execution_count": null,
      "outputs": [
        {
          "output_type": "stream",
          "name": "stdout",
          "text": [
            "+-----+-----+\n",
            "|Word1|Word2|\n",
            "+-----+-----+\n",
            "|Hello|World|\n",
            "+-----+-----+\n",
            "\n"
          ]
        }
      ]
    },
    {
      "cell_type": "markdown",
      "source": [
        "## Basic Transformation and Actions"
      ],
      "metadata": {
        "id": "EpPnpP-oxBDw"
      }
    },
    {
      "cell_type": "code",
      "source": [
        "columns =[\"Name\", \"Department\", \"Salary\"]\n",
        "data = [\n",
        "    (\"John\", \"Sales\", 3000),\n",
        "    (\"Jane\", \"Finance\", 4000),\n",
        "    (\"Mike\", \"Sales\", 3500),\n",
        "    (\"Alice\", \"Finance\", 3800),\n",
        "    (\"Bob\",\"IT\",4500)\n",
        "]\n",
        "df = spark.createDataFrame(data, columns)\n",
        "df.show()"
      ],
      "metadata": {
        "colab": {
          "base_uri": "https://localhost:8080/"
        },
        "id": "5_7I-4G-wd-m",
        "outputId": "74093af9-82b8-492b-f202-acfb9dd62458"
      },
      "execution_count": null,
      "outputs": [
        {
          "output_type": "stream",
          "name": "stdout",
          "text": [
            "+-----+----------+------+\n",
            "| Name|Department|Salary|\n",
            "+-----+----------+------+\n",
            "| John|     Sales|  3000|\n",
            "| Jane|   Finance|  4000|\n",
            "| Mike|     Sales|  3500|\n",
            "|Alice|   Finance|  3800|\n",
            "|  Bob|        IT|  4500|\n",
            "+-----+----------+------+\n",
            "\n"
          ]
        }
      ]
    },
    {
      "cell_type": "code",
      "source": [
        "# Filter: Employees with salary > 3500\n",
        "df_filtered = df.filter(df.Salary > 3500)\n",
        "df_filtered.show()"
      ],
      "metadata": {
        "colab": {
          "base_uri": "https://localhost:8080/"
        },
        "id": "0IdkwqLdwsRt",
        "outputId": "cf2eccb8-2f6d-462a-b7a8-5831ae2283e3"
      },
      "execution_count": null,
      "outputs": [
        {
          "output_type": "stream",
          "name": "stdout",
          "text": [
            "+-----+----------+------+\n",
            "| Name|Department|Salary|\n",
            "+-----+----------+------+\n",
            "| Jane|   Finance|  4000|\n",
            "|Alice|   Finance|  3800|\n",
            "|  Bob|        IT|  4500|\n",
            "+-----+----------+------+\n",
            "\n"
          ]
        }
      ]
    },
    {
      "cell_type": "code",
      "source": [
        "# GroupBy and Aggregate: Avarage salary by department\n",
        "df_grouped =df.groupBy(\"Department\").avg(\"Salary\")\n",
        "df_grouped.show()"
      ],
      "metadata": {
        "colab": {
          "base_uri": "https://localhost:8080/"
        },
        "id": "VEd5e6tqyJny",
        "outputId": "10b39a6b-8308-4d67-b703-eb24b6bf3849"
      },
      "execution_count": null,
      "outputs": [
        {
          "output_type": "stream",
          "name": "stdout",
          "text": [
            "+----------+-----------+\n",
            "|Department|avg(Salary)|\n",
            "+----------+-----------+\n",
            "|     Sales|     3250.0|\n",
            "|   Finance|     3900.0|\n",
            "|        IT|     4500.0|\n",
            "+----------+-----------+\n",
            "\n"
          ]
        }
      ]
    },
    {
      "cell_type": "code",
      "source": [
        "# Add a new column: Salary with bonus (10%)\n",
        "from pyspark.sql.functions import col\n",
        "exp =col(\"Salary\") * 1.1\n",
        "df_bonus = df.withColumn(\"Salary_10%_Bonus\", exp)\n",
        "df_bonus.show()"
      ],
      "metadata": {
        "colab": {
          "base_uri": "https://localhost:8080/"
        },
        "id": "ufGut94vyyD9",
        "outputId": "fbf3cf70-51de-444b-b966-1a6245b6d99e"
      },
      "execution_count": null,
      "outputs": [
        {
          "output_type": "stream",
          "name": "stdout",
          "text": [
            "+-----+----------+------+------------------+\n",
            "| Name|Department|Salary|  Salary_10%_Bonus|\n",
            "+-----+----------+------+------------------+\n",
            "| John|     Sales|  3000|3300.0000000000005|\n",
            "| Jane|   Finance|  4000|            4400.0|\n",
            "| Mike|     Sales|  3500|3850.0000000000005|\n",
            "|Alice|   Finance|  3800|            4180.0|\n",
            "|  Bob|        IT|  4500|            4950.0|\n",
            "+-----+----------+------+------------------+\n",
            "\n"
          ]
        }
      ]
    },
    {
      "cell_type": "code",
      "source": [
        "from pyspark.sql.functions import col,upper,lower, concat_ws,length,when\n",
        "df.show()"
      ],
      "metadata": {
        "colab": {
          "base_uri": "https://localhost:8080/"
        },
        "id": "dXwMeOp20iI4",
        "outputId": "4a3069ba-8a72-4333-abab-654fe667cd60"
      },
      "execution_count": null,
      "outputs": [
        {
          "output_type": "stream",
          "name": "stdout",
          "text": [
            "+-----+----------+------+\n",
            "| Name|Department|Salary|\n",
            "+-----+----------+------+\n",
            "| John|     Sales|  3000|\n",
            "| Jane|   Finance|  4000|\n",
            "| Mike|     Sales|  3500|\n",
            "|Alice|   Finance|  3800|\n",
            "|  Bob|        IT|  4500|\n",
            "+-----+----------+------+\n",
            "\n"
          ]
        }
      ]
    },
    {
      "cell_type": "code",
      "source": [
        "# Change Case Tranformation\n",
        "df_upper= df.withColumn(\"Name_Upper\", upper(col(\"Name\")))\n",
        "df_lower= df.withColumn(\"Name_Lower\", lower(col(\"Name\")))\n",
        "df_concat = df.withColumn(\"Name_Department\", concat_ws(\" - \", col(\"Name\"), col(\"Department\")))\n",
        "df_upper.show()\n",
        "df_lower.show()\n",
        "df_concat.show()"
      ],
      "metadata": {
        "colab": {
          "base_uri": "https://localhost:8080/"
        },
        "id": "slfFr1an2DSJ",
        "outputId": "c486716b-ea52-4da1-f677-17f6cde3859d"
      },
      "execution_count": null,
      "outputs": [
        {
          "output_type": "stream",
          "name": "stdout",
          "text": [
            "+-----+----------+------+----------+\n",
            "| Name|Department|Salary|Name_Upper|\n",
            "+-----+----------+------+----------+\n",
            "| John|     Sales|  3000|      JOHN|\n",
            "| Jane|   Finance|  4000|      JANE|\n",
            "| Mike|     Sales|  3500|      MIKE|\n",
            "|Alice|   Finance|  3800|     ALICE|\n",
            "|  Bob|        IT|  4500|       BOB|\n",
            "+-----+----------+------+----------+\n",
            "\n",
            "+-----+----------+------+----------+\n",
            "| Name|Department|Salary|Name_Lower|\n",
            "+-----+----------+------+----------+\n",
            "| John|     Sales|  3000|      john|\n",
            "| Jane|   Finance|  4000|      jane|\n",
            "| Mike|     Sales|  3500|      mike|\n",
            "|Alice|   Finance|  3800|     alice|\n",
            "|  Bob|        IT|  4500|       bob|\n",
            "+-----+----------+------+----------+\n",
            "\n",
            "+-----+----------+------+---------------+\n",
            "| Name|Department|Salary|Name_Department|\n",
            "+-----+----------+------+---------------+\n",
            "| John|     Sales|  3000|   John - Sales|\n",
            "| Jane|   Finance|  4000| Jane - Finance|\n",
            "| Mike|     Sales|  3500|   Mike - Sales|\n",
            "|Alice|   Finance|  3800|Alice - Finance|\n",
            "|  Bob|        IT|  4500|       Bob - IT|\n",
            "+-----+----------+------+---------------+\n",
            "\n"
          ]
        }
      ]
    },
    {
      "cell_type": "code",
      "source": [
        "# Concatenate the Columns\n",
        "df_concat =df.withColumn(\"Full_Name\", concat_ws(\" \", col(\"Name\"), col(\"Department\")))\n",
        "df_concat.show()"
      ],
      "metadata": {
        "colab": {
          "base_uri": "https://localhost:8080/"
        },
        "id": "8Y13I2x-2qpm",
        "outputId": "b447ed77-6bca-42d5-b63d-56d8935ad9ca"
      },
      "execution_count": null,
      "outputs": [
        {
          "output_type": "stream",
          "name": "stdout",
          "text": [
            "+-----+----------+------+-------------+\n",
            "| Name|Department|Salary|    Full_Name|\n",
            "+-----+----------+------+-------------+\n",
            "| John|     Sales|  3000|   John Sales|\n",
            "| Jane|   Finance|  4000| Jane Finance|\n",
            "| Mike|     Sales|  3500|   Mike Sales|\n",
            "|Alice|   Finance|  3800|Alice Finance|\n",
            "|  Bob|        IT|  4500|       Bob IT|\n",
            "+-----+----------+------+-------------+\n",
            "\n"
          ]
        }
      ]
    },
    {
      "cell_type": "code",
      "source": [
        "# String length of Names in New DF\n",
        "df_length = df.withColumn(\"Name_Length\", length(col(\"Name\")))\n",
        "df_length.show()"
      ],
      "metadata": {
        "colab": {
          "base_uri": "https://localhost:8080/"
        },
        "id": "vCd4Dp143OFf",
        "outputId": "897eb3b5-0efd-44ad-bce8-15357cf86c1b"
      },
      "execution_count": null,
      "outputs": [
        {
          "output_type": "stream",
          "name": "stdout",
          "text": [
            "+-----+----------+------+-----------+\n",
            "| Name|Department|Salary|Name_Length|\n",
            "+-----+----------+------+-----------+\n",
            "| John|     Sales|  3000|          4|\n",
            "| Jane|   Finance|  4000|          4|\n",
            "| Mike|     Sales|  3500|          4|\n",
            "|Alice|   Finance|  3800|          5|\n",
            "|  Bob|        IT|  4500|          3|\n",
            "+-----+----------+------+-----------+\n",
            "\n"
          ]
        }
      ]
    },
    {
      "cell_type": "code",
      "source": [
        "# Conditional Column (Salary Category\n",
        "df_conditional =df.withColumn(\"Salary_Category\",\n",
        "                               when(col(\"Salary\") >= 4000, \"High\")\n",
        "                               .when(col(\"Salary\") >= 3500, \"Medium\")\n",
        "                               .otherwise(\"Low\"))\n",
        "df_conditional.show()"
      ],
      "metadata": {
        "colab": {
          "base_uri": "https://localhost:8080/"
        },
        "id": "9-6kqMvi3gBa",
        "outputId": "cdfcc9b0-ac92-4235-a547-c64d6a7c06e3"
      },
      "execution_count": null,
      "outputs": [
        {
          "output_type": "stream",
          "name": "stdout",
          "text": [
            "+-----+----------+------+---------------+\n",
            "| Name|Department|Salary|Salary_Category|\n",
            "+-----+----------+------+---------------+\n",
            "| John|     Sales|  3000|            Low|\n",
            "| Jane|   Finance|  4000|           High|\n",
            "| Mike|     Sales|  3500|         Medium|\n",
            "|Alice|   Finance|  3800|         Medium|\n",
            "|  Bob|        IT|  4500|           High|\n",
            "+-----+----------+------+---------------+\n",
            "\n"
          ]
        }
      ]
    },
    {
      "cell_type": "code",
      "source": [
        "# Rename Column (Salary --> Base_Salary)\n",
        "df_renamed = df.withColumnRenamed(\"Salary\", \"Base_Salary\")\n",
        "df_renamed.show()"
      ],
      "metadata": {
        "colab": {
          "base_uri": "https://localhost:8080/"
        },
        "id": "ZnBZa4qW4q1p",
        "outputId": "a5873623-7e93-463b-8fcd-b199811d51cc"
      },
      "execution_count": null,
      "outputs": [
        {
          "output_type": "stream",
          "name": "stdout",
          "text": [
            "+-----+----------+-----------+\n",
            "| Name|Department|Base_Salary|\n",
            "+-----+----------+-----------+\n",
            "| John|     Sales|       3000|\n",
            "| Jane|   Finance|       4000|\n",
            "| Mike|     Sales|       3500|\n",
            "|Alice|   Finance|       3800|\n",
            "|  Bob|        IT|       4500|\n",
            "+-----+----------+-----------+\n",
            "\n"
          ]
        }
      ]
    },
    {
      "cell_type": "markdown",
      "source": [
        "## Advance Transformation and Action in PySpark"
      ],
      "metadata": {
        "id": "RCvuGCzBN8EW"
      }
    },
    {
      "cell_type": "code",
      "source": [
        "from pyspark.sql import SparkSession\n",
        "spark =SparkSession.builder.appName(\"Basics\").getOrCreate()\n",
        "columns = [\"Name\",\"Department\",\"Salary\"]\n",
        "data = [\n",
        "    (\"John\", \"Sales\", 3000),\n",
        "    (\"Jane\", \"Finance\", 4000),\n",
        "    (\"Mike\", \"Sales\", 3500),\n",
        "    (\"Alice\", \"Finance\", 3800),\n",
        "    (\"Bob\", \"IT\", 4500)\n",
        "]\n",
        "\n",
        "df = spark.createDataFrame(data, columns)\n",
        "\n",
        "df.show()"
      ],
      "metadata": {
        "colab": {
          "base_uri": "https://localhost:8080/"
        },
        "id": "uXNO17aXORtM",
        "outputId": "92d3c9df-9bac-4f71-c8c4-c3c8c6ecb905"
      },
      "execution_count": null,
      "outputs": [
        {
          "output_type": "stream",
          "name": "stdout",
          "text": [
            "+-----+----------+------+\n",
            "| Name|Department|Salary|\n",
            "+-----+----------+------+\n",
            "| John|     Sales|  3000|\n",
            "| Jane|   Finance|  4000|\n",
            "| Mike|     Sales|  3500|\n",
            "|Alice|   Finance|  3800|\n",
            "|  Bob|        IT|  4500|\n",
            "+-----+----------+------+\n",
            "\n"
          ]
        }
      ]
    },
    {
      "cell_type": "code",
      "source": [
        "# GroupBy Department and count employees\n",
        "df.groupBy(\"Department\").count().show()"
      ],
      "metadata": {
        "colab": {
          "base_uri": "https://localhost:8080/"
        },
        "id": "xgiIpcw9OUVF",
        "outputId": "a9ca5a4c-d6d1-40f1-f685-25ada7e0ccfb"
      },
      "execution_count": null,
      "outputs": [
        {
          "output_type": "stream",
          "name": "stdout",
          "text": [
            "+----------+-----+\n",
            "|Department|count|\n",
            "+----------+-----+\n",
            "|     Sales|    2|\n",
            "|   Finance|    2|\n",
            "|        IT|    1|\n",
            "+----------+-----+\n",
            "\n"
          ]
        }
      ]
    },
    {
      "cell_type": "code",
      "source": [
        "# GroupBy Department and calculate average salary\n",
        "df.groupBy(\"Department\").avg(\"Salary\").show()"
      ],
      "metadata": {
        "colab": {
          "base_uri": "https://localhost:8080/"
        },
        "id": "fVIY6w4POuro",
        "outputId": "826231be-6d33-4d55-bc9f-9fa7329efc5b"
      },
      "execution_count": null,
      "outputs": [
        {
          "output_type": "stream",
          "name": "stdout",
          "text": [
            "+----------+-----------+\n",
            "|Department|avg(Salary)|\n",
            "+----------+-----------+\n",
            "|     Sales|     3250.0|\n",
            "|   Finance|     3900.0|\n",
            "|        IT|     4500.0|\n",
            "+----------+-----------+\n",
            "\n"
          ]
        }
      ]
    },
    {
      "cell_type": "code",
      "source": [
        "# GroupBy Department and calculate multiple Aggregations\n",
        "from pyspark.sql import functions as functions\n",
        "df.groupBy(\"Department\").agg(\n",
        "    functions.avg(\"Salary\").alias(\"Average_Salary\"),\n",
        "    functions.max(\"Salary\").alias(\"Max_Salary\"),\n",
        "    functions.min(\"Salary\").alias(\"Min_Salary\")\n",
        ").show()"
      ],
      "metadata": {
        "colab": {
          "base_uri": "https://localhost:8080/"
        },
        "id": "U2JlKBkcPClp",
        "outputId": "3fb35eaf-0e34-4315-da8e-5fbef5e3250c"
      },
      "execution_count": null,
      "outputs": [
        {
          "output_type": "stream",
          "name": "stdout",
          "text": [
            "+----------+--------------+----------+----------+\n",
            "|Department|Average_Salary|Max_Salary|Min_Salary|\n",
            "+----------+--------------+----------+----------+\n",
            "|     Sales|        3250.0|      3500|      3000|\n",
            "|   Finance|        3900.0|      4000|      3800|\n",
            "|        IT|        4500.0|      4500|      4500|\n",
            "+----------+--------------+----------+----------+\n",
            "\n"
          ]
        }
      ]
    },
    {
      "cell_type": "code",
      "source": [
        "# Create another DataFrame for department info\n",
        "dept_data = [\n",
        "    (\"Sales\", \"Building A\"),\n",
        "    (\"Finance\", \"Building B\"),\n",
        "    (\"IT\", \"Building C\")\n",
        "]\n",
        "dept_columns = [\"Department\",\"Location\"]\n",
        "df.show()"
      ],
      "metadata": {
        "colab": {
          "base_uri": "https://localhost:8080/"
        },
        "id": "s1n7HnjiQF3P",
        "outputId": "3c5a03d9-b15f-4315-d653-d11331c48b51"
      },
      "execution_count": null,
      "outputs": [
        {
          "output_type": "stream",
          "name": "stdout",
          "text": [
            "+-----+----------+------+\n",
            "| Name|Department|Salary|\n",
            "+-----+----------+------+\n",
            "| John|     Sales|  3000|\n",
            "| Jane|   Finance|  4000|\n",
            "| Mike|     Sales|  3500|\n",
            "|Alice|   Finance|  3800|\n",
            "|  Bob|        IT|  4500|\n",
            "+-----+----------+------+\n",
            "\n"
          ]
        }
      ]
    },
    {
      "cell_type": "code",
      "source": [
        "dept_df =spark.createDataFrame(dept_data, dept_columns)\n",
        "# Join employee data with department info\n",
        "joined_df = df.join(dept_df, on=\"Department\", how=\"inner\")\n",
        "joined_df.show()"
      ],
      "metadata": {
        "colab": {
          "base_uri": "https://localhost:8080/"
        },
        "id": "8VknhO6kSCuk",
        "outputId": "dcc2bf95-31f4-4001-911c-c25bb95b24ae"
      },
      "execution_count": null,
      "outputs": [
        {
          "output_type": "stream",
          "name": "stdout",
          "text": [
            "+----------+-----+------+----------+\n",
            "|Department| Name|Salary|  Location|\n",
            "+----------+-----+------+----------+\n",
            "|   Finance| Jane|  4000|Building B|\n",
            "|   Finance|Alice|  3800|Building B|\n",
            "|        IT|  Bob|  4500|Building C|\n",
            "|     Sales| John|  3000|Building A|\n",
            "|     Sales| Mike|  3500|Building A|\n",
            "+----------+-----+------+----------+\n",
            "\n"
          ]
        }
      ]
    },
    {
      "cell_type": "code",
      "source": [
        "dept_df.show()"
      ],
      "metadata": {
        "colab": {
          "base_uri": "https://localhost:8080/"
        },
        "id": "-_oCL5ZQSQnk",
        "outputId": "d0931db6-7d6e-4298-fdb6-bcd03fb57ab9"
      },
      "execution_count": null,
      "outputs": [
        {
          "output_type": "stream",
          "name": "stdout",
          "text": [
            "+----------+----------+\n",
            "|Department|  Location|\n",
            "+----------+----------+\n",
            "|     Sales|Building A|\n",
            "|   Finance|Building B|\n",
            "|        IT|Building C|\n",
            "+----------+----------+\n",
            "\n"
          ]
        }
      ]
    },
    {
      "cell_type": "code",
      "source": [
        "# Perform an outer join\n",
        "outer_joined_df = df.join(dept_df, on=\"Department\", how=\"outer\")\n",
        "outer_joined_df.show()"
      ],
      "metadata": {
        "colab": {
          "base_uri": "https://localhost:8080/"
        },
        "id": "V9N5UbZBSj-O",
        "outputId": "52f96b76-2886-4087-d434-f2a60188b6b7"
      },
      "execution_count": null,
      "outputs": [
        {
          "output_type": "stream",
          "name": "stdout",
          "text": [
            "+----------+-----+------+----------+\n",
            "|Department| Name|Salary|  Location|\n",
            "+----------+-----+------+----------+\n",
            "|   Finance| Jane|  4000|Building B|\n",
            "|   Finance|Alice|  3800|Building B|\n",
            "|        IT|  Bob|  4500|Building C|\n",
            "|     Sales| John|  3000|Building A|\n",
            "|     Sales| Mike|  3500|Building A|\n",
            "+----------+-----+------+----------+\n",
            "\n"
          ]
        }
      ]
    },
    {
      "cell_type": "code",
      "source": [
        "# Employee DataFrame\n",
        "emp_data = [\n",
        "    (1, \"John\", \"Sales\", 3000),\n",
        "    (2, \"Jane\", \"Finance\", 4000),\n",
        "    (3, \"Mike\", \"Sales\", 3500),\n",
        "    (4, \"Alice\", \"HR\", 3800),\n",
        "    (5, \"Bob\", \"IT\", 4500),\n",
        "    (6, \"Sam\", \"Support\", 3200)\n",
        "]\n",
        "emp_cols = [\"EmpID\", \"Name\", \"Department\", \"Salary\"]\n",
        "emp_df = spark.createDataFrame(emp_data, emp_cols)\n",
        "\n",
        "# Department DataFrame\n",
        "dept_data = [\n",
        "    (\"Sales\", \"Building A\"),\n",
        "    (\"Finance\", \"Building B\"),\n",
        "    (\"IT\", \"Building C\"),\n",
        "    (\"Admin\", \"Building D\")\n",
        "]\n",
        "dept_cols = [\"Department\", \"Location\"]\n",
        "dept_df = spark.createDataFrame(dept_data, dept_cols)\n",
        "\n",
        "# Display both\n",
        "emp_df.show()\n",
        "dept_df.show()\n"
      ],
      "metadata": {
        "colab": {
          "base_uri": "https://localhost:8080/"
        },
        "id": "pvf-0v96Uu53",
        "outputId": "b33c9670-a988-44e4-f3ad-22ad7fe8e6f7"
      },
      "execution_count": null,
      "outputs": [
        {
          "output_type": "stream",
          "name": "stdout",
          "text": [
            "+-----+-----+----------+------+\n",
            "|EmpID| Name|Department|Salary|\n",
            "+-----+-----+----------+------+\n",
            "|    1| John|     Sales|  3000|\n",
            "|    2| Jane|   Finance|  4000|\n",
            "|    3| Mike|     Sales|  3500|\n",
            "|    4|Alice|        HR|  3800|\n",
            "|    5|  Bob|        IT|  4500|\n",
            "|    6|  Sam|   Support|  3200|\n",
            "+-----+-----+----------+------+\n",
            "\n",
            "+----------+----------+\n",
            "|Department|  Location|\n",
            "+----------+----------+\n",
            "|     Sales|Building A|\n",
            "|   Finance|Building B|\n",
            "|        IT|Building C|\n",
            "|     Admin|Building D|\n",
            "+----------+----------+\n",
            "\n"
          ]
        }
      ]
    },
    {
      "cell_type": "code",
      "source": [
        "# Perform Inner Join\n",
        "emp_df.join(dept_df, on=\"Department\", how=\"inner\").show()"
      ],
      "metadata": {
        "colab": {
          "base_uri": "https://localhost:8080/"
        },
        "id": "iVmdBI7bVJJO",
        "outputId": "e8959109-28ea-44ab-b03e-c53fbd873c01"
      },
      "execution_count": null,
      "outputs": [
        {
          "output_type": "stream",
          "name": "stdout",
          "text": [
            "+----------+-----+----+------+----------+\n",
            "|Department|EmpID|Name|Salary|  Location|\n",
            "+----------+-----+----+------+----------+\n",
            "|   Finance|    2|Jane|  4000|Building B|\n",
            "|        IT|    5| Bob|  4500|Building C|\n",
            "|     Sales|    1|John|  3000|Building A|\n",
            "|     Sales|    3|Mike|  3500|Building A|\n",
            "+----------+-----+----+------+----------+\n",
            "\n"
          ]
        }
      ]
    },
    {
      "cell_type": "code",
      "source": [
        "# Perfom Left Join (All Employees, Dept Info if Exists)\n",
        "emp_df.join(dept_df, on=\"Department\", how=\"left\").show()"
      ],
      "metadata": {
        "colab": {
          "base_uri": "https://localhost:8080/"
        },
        "id": "1JRQxr33VV_1",
        "outputId": "f867d177-946c-4b78-8d24-165852f67cf3"
      },
      "execution_count": null,
      "outputs": [
        {
          "output_type": "stream",
          "name": "stdout",
          "text": [
            "+----------+-----+-----+------+----------+\n",
            "|Department|EmpID| Name|Salary|  Location|\n",
            "+----------+-----+-----+------+----------+\n",
            "|     Sales|    1| John|  3000|Building A|\n",
            "|     Sales|    3| Mike|  3500|Building A|\n",
            "|   Finance|    2| Jane|  4000|Building B|\n",
            "|        HR|    4|Alice|  3800|      NULL|\n",
            "|        IT|    5|  Bob|  4500|Building C|\n",
            "|   Support|    6|  Sam|  3200|      NULL|\n",
            "+----------+-----+-----+------+----------+\n",
            "\n"
          ]
        }
      ]
    },
    {
      "cell_type": "code",
      "source": [
        "# Perfom Right Join (All Employees, Dept Info if Exists)\n",
        "emp_df.join(dept_df, on=\"Department\", how=\"right\").show()"
      ],
      "metadata": {
        "colab": {
          "base_uri": "https://localhost:8080/"
        },
        "id": "ZJeeQD3zVmv9",
        "outputId": "719a98d8-e037-4d8c-f49d-292d52f4d0a2"
      },
      "execution_count": null,
      "outputs": [
        {
          "output_type": "stream",
          "name": "stdout",
          "text": [
            "+----------+-----+----+------+----------+\n",
            "|Department|EmpID|Name|Salary|  Location|\n",
            "+----------+-----+----+------+----------+\n",
            "|     Sales|    3|Mike|  3500|Building A|\n",
            "|     Sales|    1|John|  3000|Building A|\n",
            "|   Finance|    2|Jane|  4000|Building B|\n",
            "|     Admin| NULL|NULL|  NULL|Building D|\n",
            "|        IT|    5| Bob|  4500|Building C|\n",
            "+----------+-----+----+------+----------+\n",
            "\n"
          ]
        }
      ]
    },
    {
      "cell_type": "code",
      "source": [
        "# Perfom Full Join (All Employees, Dept Info if Exists)\n",
        "emp_df.join(dept_df, on=\"Department\", how=\"full\").show()"
      ],
      "metadata": {
        "colab": {
          "base_uri": "https://localhost:8080/"
        },
        "id": "A6pMJAUHVx2l",
        "outputId": "1dfa5492-6c7d-494a-bcb1-56c02112701c"
      },
      "execution_count": null,
      "outputs": [
        {
          "output_type": "stream",
          "name": "stdout",
          "text": [
            "+----------+-----+-----+------+----------+\n",
            "|Department|EmpID| Name|Salary|  Location|\n",
            "+----------+-----+-----+------+----------+\n",
            "|     Admin| NULL| NULL|  NULL|Building D|\n",
            "|   Finance|    2| Jane|  4000|Building B|\n",
            "|        HR|    4|Alice|  3800|      NULL|\n",
            "|        IT|    5|  Bob|  4500|Building C|\n",
            "|     Sales|    1| John|  3000|Building A|\n",
            "|     Sales|    3| Mike|  3500|Building A|\n",
            "|   Support|    6|  Sam|  3200|      NULL|\n",
            "+----------+-----+-----+------+----------+\n",
            "\n"
          ]
        }
      ]
    },
    {
      "cell_type": "markdown",
      "source": [
        "## Case Study Activity"
      ],
      "metadata": {
        "id": "mCPIk367Ydfh"
      }
    },
    {
      "cell_type": "code",
      "source": [
        "#  1. Setup: Load DataFrames\n",
        "from pyspark.sql import SparkSession\n",
        "from pyspark.sql.functions import col, sum, avg, count, month, year, when, desc, row_number, min, max\n",
        "from pyspark.sql.window import Window\n",
        "\n",
        "spark = SparkSession.builder.appName(\"SalesAnalysis\").getOrCreate()\n",
        "\n",
        "# Load CSV files\n",
        "sales_df = spark.read.option(\"header\", True).option(\"inferSchema\", True).csv(\"sales_data.csv\")\n",
        "product_df = spark.read.option(\"header\", True).option(\"inferSchema\", True).csv(\"product_data.csv\")\n",
        "customer_df = spark.read.option(\"header\", True).option(\"inferSchema\", True).csv(\"customer_data.csv\")\n",
        "\n",
        "# Create revenue column\n",
        "sales_df = sales_df.withColumn(\"revenue\", col(\"quantity\") * col(\"price\"))"
      ],
      "metadata": {
        "id": "wDUaLhbRYhB9"
      },
      "execution_count": null,
      "outputs": []
    },
    {
      "cell_type": "code",
      "source": [
        "# 2. Aggregations\n",
        "# 2.1 Total Revenue Per Product\n",
        "total_revenue_product = sales_df.groupBy(\"product_id\").agg(sum(\"revenue\").alias(\"total_revenue\"))\n",
        "total_revenue_product.show()"
      ],
      "metadata": {
        "colab": {
          "base_uri": "https://localhost:8080/"
        },
        "id": "CEbXJTlxYlIg",
        "outputId": "3eeef195-4902-490e-f083-5480d1a765af"
      },
      "execution_count": null,
      "outputs": [
        {
          "output_type": "stream",
          "name": "stdout",
          "text": [
            "+----------+-------------+\n",
            "|product_id|total_revenue|\n",
            "+----------+-------------+\n",
            "|       148|         58.0|\n",
            "|       137|        115.0|\n",
            "|       133|        115.5|\n",
            "|       108|        235.0|\n",
            "|       101|        280.5|\n",
            "|       115|        484.0|\n",
            "|       126|        240.0|\n",
            "|       103|        240.0|\n",
            "|       128|         90.0|\n",
            "|       122|        100.0|\n",
            "|       111|        292.5|\n",
            "|       140|         80.0|\n",
            "|       132|        132.0|\n",
            "|       146|        180.0|\n",
            "|       142|        190.0|\n",
            "|       139|         55.5|\n",
            "|       120|        211.5|\n",
            "|       117|        114.0|\n",
            "|       112|        231.0|\n",
            "|       127|         70.0|\n",
            "+----------+-------------+\n",
            "only showing top 20 rows\n",
            "\n"
          ]
        }
      ]
    },
    {
      "cell_type": "code",
      "source": [
        "# 2.2 Total Quantity Sold Per Customer\n",
        "quantity_per_customer = sales_df.groupBy(\"customer_id\").agg(sum(\"quantity\").alias(\"total_quantity\"))\n",
        "quantity_per_customer.show()"
      ],
      "metadata": {
        "colab": {
          "base_uri": "https://localhost:8080/"
        },
        "id": "O4kiBXQfYxHw",
        "outputId": "b3e34d44-d6ef-42c3-bee6-e3ced569f329"
      },
      "execution_count": null,
      "outputs": [
        {
          "output_type": "stream",
          "name": "stdout",
          "text": [
            "+-----------+--------------+\n",
            "|customer_id|total_quantity|\n",
            "+-----------+--------------+\n",
            "|        540|             3|\n",
            "|        516|             4|\n",
            "|        513|             8|\n",
            "|        530|             2|\n",
            "|        501|             3|\n",
            "|        548|             9|\n",
            "|        539|             6|\n",
            "|        519|             6|\n",
            "|        556|             8|\n",
            "|        512|             9|\n",
            "|        570|             3|\n",
            "|        559|             6|\n",
            "|        545|             3|\n",
            "|        507|             3|\n",
            "|        544|             7|\n",
            "|        542|             8|\n",
            "|        553|             7|\n",
            "|        560|             5|\n",
            "|        504|             5|\n",
            "|        554|             5|\n",
            "+-----------+--------------+\n",
            "only showing top 20 rows\n",
            "\n"
          ]
        }
      ]
    },
    {
      "cell_type": "code",
      "source": [
        "# 2.3 Average Revenue Per Customer\n",
        "avg_revenue_customer = sales_df.groupBy(\"customer_id\").agg(avg(\"revenue\").alias(\"avg_revenue\"))\n",
        "avg_revenue_customer.show()"
      ],
      "metadata": {
        "colab": {
          "base_uri": "https://localhost:8080/"
        },
        "id": "Tzl6inxaY2pk",
        "outputId": "572d0574-5840-4851-c13c-d778af2b30f0"
      },
      "execution_count": null,
      "outputs": [
        {
          "output_type": "stream",
          "name": "stdout",
          "text": [
            "+-----------+-----------+\n",
            "|customer_id|avg_revenue|\n",
            "+-----------+-----------+\n",
            "|        540|       55.5|\n",
            "|        516|      128.0|\n",
            "|        513|      180.0|\n",
            "|        530|       76.0|\n",
            "|        501|       76.5|\n",
            "|        548|      198.0|\n",
            "|        539|      210.0|\n",
            "|        519|      111.0|\n",
            "|        556|      400.0|\n",
            "|        512|       90.0|\n",
            "|        570|      120.0|\n",
            "|        559|      108.0|\n",
            "|        545|       91.5|\n",
            "|        507|      120.0|\n",
            "|        544|       84.0|\n",
            "|        542|      172.0|\n",
            "|        553|      210.0|\n",
            "|        560|      160.0|\n",
            "|        504|      127.5|\n",
            "|        554|      200.0|\n",
            "+-----------+-----------+\n",
            "only showing top 20 rows\n",
            "\n"
          ]
        }
      ]
    },
    {
      "cell_type": "code",
      "source": [
        "# 2.4 Monthly Sales Total\n",
        "monthly_sales = sales_df.withColumn(\"month\", month(\"sale_date\")) \\\n",
        "                        .withColumn(\"year\", year(\"sale_date\")) \\\n",
        "                        .groupBy(\"year\", \"month\").agg(sum(\"revenue\").alias(\"monthly_total\"))\n",
        "monthly_sales.show()"
      ],
      "metadata": {
        "colab": {
          "base_uri": "https://localhost:8080/"
        },
        "id": "D_D1-jDHY_V5",
        "outputId": "a5cd5087-0840-4ddb-aa2d-e6c421e2b75c"
      },
      "execution_count": null,
      "outputs": [
        {
          "output_type": "stream",
          "name": "stdout",
          "text": [
            "+----+-----+-------------+\n",
            "|year|month|monthly_total|\n",
            "+----+-----+-------------+\n",
            "|2025|    9|       2679.0|\n",
            "|2025|    7|       2795.5|\n",
            "|2025|    8|       4136.0|\n",
            "+----+-----+-------------+\n",
            "\n"
          ]
        }
      ]
    },
    {
      "cell_type": "code",
      "source": [
        "# 2.5 Count of Sales Per Category\n",
        "sales_with_category = sales_df.join(product_df, \"product_id\")\n",
        "category_count = sales_with_category.groupBy(\"category\").agg(count(\"*\").alias(\"sales_count\"))\n",
        "category_count.show()"
      ],
      "metadata": {
        "colab": {
          "base_uri": "https://localhost:8080/"
        },
        "id": "l0jC-6eoZDW-",
        "outputId": "d3ac7840-9096-490e-d640-c99c767f2d32"
      },
      "execution_count": null,
      "outputs": [
        {
          "output_type": "stream",
          "name": "stdout",
          "text": [
            "+-------------+-----------+\n",
            "|     category|sales_count|\n",
            "+-------------+-----------+\n",
            "|  Electronics|         16|\n",
            "|    Furniture|         18|\n",
            "|      Gadgets|         21|\n",
            "|Home & Living|         15|\n",
            "+-------------+-----------+\n",
            "\n"
          ]
        }
      ]
    },
    {
      "cell_type": "code",
      "source": [
        "# 2.6 Top 3 Most Expensive Products Sold (By Revenue)\n",
        "revenue_product = sales_df.groupBy(\"product_id\").agg(sum(\"revenue\").alias(\"total_revenue\"))\n",
        "top3_products = revenue_product.orderBy(desc(\"total_revenue\")).limit(3)\n",
        "top3_products.show()"
      ],
      "metadata": {
        "colab": {
          "base_uri": "https://localhost:8080/"
        },
        "id": "HRfcnw8OZIiL",
        "outputId": "16ef5c18-bf9d-459e-a936-c39cb5e8b00a"
      },
      "execution_count": null,
      "outputs": [
        {
          "output_type": "stream",
          "name": "stdout",
          "text": [
            "+----------+-------------+\n",
            "|product_id|total_revenue|\n",
            "+----------+-------------+\n",
            "|       105|        540.0|\n",
            "|       106|        520.0|\n",
            "|       115|        484.0|\n",
            "+----------+-------------+\n",
            "\n"
          ]
        }
      ]
    },
    {
      "cell_type": "code",
      "source": [
        "# 3. Joins\n",
        "# 3.1 Sales with Product Information\n",
        "sales_product = sales_df.join(product_df, \"product_id\")\n",
        "sales_product.show()"
      ],
      "metadata": {
        "colab": {
          "base_uri": "https://localhost:8080/"
        },
        "id": "DpJs6EfRZLMl",
        "outputId": "b0444fc2-0722-4ad9-af83-124e3d3c83a2"
      },
      "execution_count": null,
      "outputs": [
        {
          "output_type": "stream",
          "name": "stdout",
          "text": [
            "+----------+-------+-----------+-------------------+--------+-----+-------+------------+-------------+\n",
            "|product_id|sale_id|customer_id|          sale_date|quantity|price|revenue|product_name|     category|\n",
            "+----------+-------+-----------+-------------------+--------+-----+-------+------------+-------------+\n",
            "|       101|   1001|        501|2025-07-10 08:23:00|       3| 25.5|   76.5|    Widget A|      Gadgets|\n",
            "|       102|   1002|        502|2025-07-11 09:45:00|       2| 15.0|   30.0|    Widget B|      Gadgets|\n",
            "|       103|   1003|        503|2025-07-12 10:15:00|       1| 30.0|   30.0|    Widget C|  Electronics|\n",
            "|       101|   1004|        504|2025-07-13 12:20:00|       5| 25.5|  127.5|    Widget A|      Gadgets|\n",
            "|       105|   1005|        505|2025-07-14 14:35:00|      10| 45.0|  450.0|    Widget E|Home & Living|\n",
            "|       102|   1006|        506|2025-07-15 16:00:00|       4| 15.0|   60.0|    Widget B|      Gadgets|\n",
            "|       106|   1007|        507|2025-07-16 17:10:00|       3| 40.0|  120.0|    Widget F|Home & Living|\n",
            "|       107|   1008|        508|2025-07-17 18:25:00|       2| 60.0|  120.0|    Widget G|    Furniture|\n",
            "|       108|   1009|        509|2025-07-18 19:30:00|       7| 25.0|  175.0|    Widget H|      Gadgets|\n",
            "|       109|   1010|        510|2025-07-19 20:45:00|       6| 50.0|  300.0|    Widget I|    Furniture|\n",
            "|       110|   1011|        511|2025-07-20 21:55:00|       4| 12.5|   50.0|    Widget J|  Electronics|\n",
            "|       111|   1012|        512|2025-07-21 22:30:00|       9| 10.0|   90.0|    Widget K|Home & Living|\n",
            "|       112|   1013|        513|2025-07-22 23:40:00|       8| 22.5|  180.0|    Widget L|  Electronics|\n",
            "|       113|   1014|        514|2025-07-23 09:15:00|       3| 17.0|   51.0|    Widget M|      Gadgets|\n",
            "|       114|   1015|        515|2025-07-24 10:35:00|       2| 45.5|   91.0|    Widget N|    Furniture|\n",
            "|       115|   1016|        516|2025-07-25 11:45:00|       4| 32.0|  128.0|    Widget O|      Gadgets|\n",
            "|       116|   1017|        517|2025-07-26 13:00:00|       5| 28.0|  140.0|    Widget P|Home & Living|\n",
            "|       117|   1018|        518|2025-07-27 14:15:00|       1| 50.0|   50.0|    Widget Q|  Electronics|\n",
            "|       118|   1019|        519|2025-07-28 15:30:00|       6| 18.5|  111.0|    Widget R|    Furniture|\n",
            "|       119|   1020|        520|2025-07-29 16:45:00|       7| 40.0|  280.0|    Widget S|      Gadgets|\n",
            "+----------+-------+-----------+-------------------+--------+-----+-------+------------+-------------+\n",
            "only showing top 20 rows\n",
            "\n"
          ]
        }
      ]
    },
    {
      "cell_type": "code",
      "source": [
        "# 3.2 Join Sales with Customer Information\n",
        "sales_customer = sales_df.join(customer_df, \"customer_id\")\n",
        "sales_customer.show()"
      ],
      "metadata": {
        "colab": {
          "base_uri": "https://localhost:8080/"
        },
        "id": "SmuJTPcOZXGs",
        "outputId": "2dc7325c-bf02-4ec1-eab4-13a38f09d092"
      },
      "execution_count": null,
      "outputs": [
        {
          "output_type": "stream",
          "name": "stdout",
          "text": [
            "+-----------+-------+----------+-------------------+--------+-----+-------+-------------+-------------------+-------------------+\n",
            "|customer_id|sale_id|product_id|          sale_date|quantity|price|revenue|customer_name|              email|          join_date|\n",
            "+-----------+-------+----------+-------------------+--------+-----+-------+-------------+-------------------+-------------------+\n",
            "|        501|   1001|       101|2025-07-10 08:23:00|       3| 25.5|   76.5|        Alice|  alice@example.com|2025-05-20 10:10:00|\n",
            "|        502|   1002|       102|2025-07-11 09:45:00|       2| 15.0|   30.0|          Bob|    bob@example.com|2025-06-15 14:00:00|\n",
            "|        503|   1003|       103|2025-07-12 10:15:00|       1| 30.0|   30.0|      Charlie|charlie@example.com|2025-04-05 09:50:00|\n",
            "|        504|   1004|       101|2025-07-13 12:20:00|       5| 25.5|  127.5|        David|  david@example.com|2025-07-01 12:25:00|\n",
            "|        505|   1005|       105|2025-07-14 14:35:00|      10| 45.0|  450.0|         Emma|   emma@example.com|2025-07-10 15:30:00|\n",
            "|        506|   1006|       102|2025-07-15 16:00:00|       4| 15.0|   60.0|        Frank|  frank@example.com|2025-03-23 17:00:00|\n",
            "|        507|   1007|       106|2025-07-16 17:10:00|       3| 40.0|  120.0|        Grace|  grace@example.com|2025-05-01 13:20:00|\n",
            "|        508|   1008|       107|2025-07-17 18:25:00|       2| 60.0|  120.0|        Henry|  henry@example.com|2025-06-07 10:10:00|\n",
            "|        509|   1009|       108|2025-07-18 19:30:00|       7| 25.0|  175.0|       Isabel| isabel@example.com|2025-05-25 16:30:00|\n",
            "|        510|   1010|       109|2025-07-19 20:45:00|       6| 50.0|  300.0|         Jack|   jack@example.com|2025-04-12 11:55:00|\n",
            "|        511|   1011|       110|2025-07-20 21:55:00|       4| 12.5|   50.0|         Kate|   kate@example.com|2025-06-18 14:10:00|\n",
            "|        512|   1012|       111|2025-07-21 22:30:00|       9| 10.0|   90.0|         Liam|   liam@example.com|2025-07-05 08:45:00|\n",
            "|        513|   1013|       112|2025-07-22 23:40:00|       8| 22.5|  180.0|         Mona|   mona@example.com|2025-03-30 15:25:00|\n",
            "|        514|   1014|       113|2025-07-23 09:15:00|       3| 17.0|   51.0|         Nina|   nina@example.com|2025-04-19 10:35:00|\n",
            "|        515|   1015|       114|2025-07-24 10:35:00|       2| 45.5|   91.0|        Oscar|  oscar@example.com|2025-05-14 09:15:00|\n",
            "|        516|   1016|       115|2025-07-25 11:45:00|       4| 32.0|  128.0|         Paul|   paul@example.com|2025-06-03 12:50:00|\n",
            "|        517|   1017|       116|2025-07-26 13:00:00|       5| 28.0|  140.0|        Quinn|  quinn@example.com|2025-07-13 13:10:00|\n",
            "|        518|   1018|       117|2025-07-27 14:15:00|       1| 50.0|   50.0|         Rita|   rita@example.com|2025-07-20 11:00:00|\n",
            "|        519|   1019|       118|2025-07-28 15:30:00|       6| 18.5|  111.0|         Sara|   sara@example.com|2025-06-30 17:40:00|\n",
            "|        520|   1020|       119|2025-07-29 16:45:00|       7| 40.0|  280.0|          Tom|    tom@example.com|2025-05-18 14:20:00|\n",
            "+-----------+-------+----------+-------------------+--------+-----+-------+-------------+-------------------+-------------------+\n",
            "only showing top 20 rows\n",
            "\n"
          ]
        }
      ]
    },
    {
      "cell_type": "code",
      "source": [
        "# 3.3 Inner Join Between Sales and Products (Only \"Gadgets\")\n",
        "gadgets_sales = sales_df.join(product_df, \"product_id\") \\\n",
        "                        .filter(col(\"category\") == \"Gadgets\")\n",
        "gadgets_sales.show()"
      ],
      "metadata": {
        "colab": {
          "base_uri": "https://localhost:8080/"
        },
        "id": "FyHD_h6zZ3VR",
        "outputId": "44fcaa80-0503-4cf2-a549-f4a64892dc94"
      },
      "execution_count": null,
      "outputs": [
        {
          "output_type": "stream",
          "name": "stdout",
          "text": [
            "+----------+-------+-----------+-------------------+--------+-----+-------+------------+--------+\n",
            "|product_id|sale_id|customer_id|          sale_date|quantity|price|revenue|product_name|category|\n",
            "+----------+-------+-----------+-------------------+--------+-----+-------+------------+--------+\n",
            "|       101|   1001|        501|2025-07-10 08:23:00|       3| 25.5|   76.5|    Widget A| Gadgets|\n",
            "|       102|   1002|        502|2025-07-11 09:45:00|       2| 15.0|   30.0|    Widget B| Gadgets|\n",
            "|       101|   1004|        504|2025-07-13 12:20:00|       5| 25.5|  127.5|    Widget A| Gadgets|\n",
            "|       102|   1006|        506|2025-07-15 16:00:00|       4| 15.0|   60.0|    Widget B| Gadgets|\n",
            "|       108|   1009|        509|2025-07-18 19:30:00|       7| 25.0|  175.0|    Widget H| Gadgets|\n",
            "|       113|   1014|        514|2025-07-23 09:15:00|       3| 17.0|   51.0|    Widget M| Gadgets|\n",
            "|       115|   1016|        516|2025-07-25 11:45:00|       4| 32.0|  128.0|    Widget O| Gadgets|\n",
            "|       119|   1020|        520|2025-07-29 16:45:00|       7| 40.0|  280.0|    Widget S| Gadgets|\n",
            "|       125|   1026|        526|2025-08-04 22:25:00|       8| 33.0|  264.0|    Widget Y| Gadgets|\n",
            "|       128|   1029|        529|2025-08-07 10:10:00|       4| 22.5|   90.0|   Widget AB| Gadgets|\n",
            "|       131|   1032|        532|2025-08-10 13:30:00|       8| 29.5|  236.0|   Widget AE| Gadgets|\n",
            "|       137|   1038|        538|2025-08-16 19:00:00|       5| 23.0|  115.0|   Widget AK| Gadgets|\n",
            "|       141|   1042|        542|2025-08-20 23:10:00|       8| 21.5|  172.0|   Widget AO| Gadgets|\n",
            "|       144|   1045|        545|2025-08-23 11:40:00|       3| 30.5|   91.5|   Widget AR| Gadgets|\n",
            "|       149|   1050|        550|2025-08-28 16:50:00|       1| 50.0|   50.0|   Widget AW| Gadgets|\n",
            "|       101|   1051|        551|2025-08-29 17:55:00|       3| 25.5|   76.5|    Widget A| Gadgets|\n",
            "|       102|   1052|        552|2025-08-30 18:45:00|       4| 15.0|   60.0|    Widget B| Gadgets|\n",
            "|       108|   1058|        558|2025-09-05 09:30:00|       1| 60.0|   60.0|    Widget H| Gadgets|\n",
            "|       113|   1063|        563|2025-09-10 15:25:00|       7| 38.0|  266.0|    Widget M| Gadgets|\n",
            "|       115|   1065|        565|2025-09-12 17:45:00|       8| 44.5|  356.0|    Widget O| Gadgets|\n",
            "+----------+-------+-----------+-------------------+--------+-----+-------+------------+--------+\n",
            "only showing top 20 rows\n",
            "\n"
          ]
        }
      ]
    },
    {
      "cell_type": "code",
      "source": [
        "# 3.4 Left Join Between Sales and Products\n",
        "left_join_df = sales_df.join(product_df, \"product_id\", \"left\")\n",
        "left_join_df.show()"
      ],
      "metadata": {
        "colab": {
          "base_uri": "https://localhost:8080/"
        },
        "id": "tA60QFX-Z8cT",
        "outputId": "0b75c07d-a7c4-4f23-b66b-c29e391bed58"
      },
      "execution_count": null,
      "outputs": [
        {
          "output_type": "stream",
          "name": "stdout",
          "text": [
            "+----------+-------+-----------+-------------------+--------+-----+-------+------------+-------------+\n",
            "|product_id|sale_id|customer_id|          sale_date|quantity|price|revenue|product_name|     category|\n",
            "+----------+-------+-----------+-------------------+--------+-----+-------+------------+-------------+\n",
            "|       101|   1001|        501|2025-07-10 08:23:00|       3| 25.5|   76.5|    Widget A|      Gadgets|\n",
            "|       102|   1002|        502|2025-07-11 09:45:00|       2| 15.0|   30.0|    Widget B|      Gadgets|\n",
            "|       103|   1003|        503|2025-07-12 10:15:00|       1| 30.0|   30.0|    Widget C|  Electronics|\n",
            "|       101|   1004|        504|2025-07-13 12:20:00|       5| 25.5|  127.5|    Widget A|      Gadgets|\n",
            "|       105|   1005|        505|2025-07-14 14:35:00|      10| 45.0|  450.0|    Widget E|Home & Living|\n",
            "|       102|   1006|        506|2025-07-15 16:00:00|       4| 15.0|   60.0|    Widget B|      Gadgets|\n",
            "|       106|   1007|        507|2025-07-16 17:10:00|       3| 40.0|  120.0|    Widget F|Home & Living|\n",
            "|       107|   1008|        508|2025-07-17 18:25:00|       2| 60.0|  120.0|    Widget G|    Furniture|\n",
            "|       108|   1009|        509|2025-07-18 19:30:00|       7| 25.0|  175.0|    Widget H|      Gadgets|\n",
            "|       109|   1010|        510|2025-07-19 20:45:00|       6| 50.0|  300.0|    Widget I|    Furniture|\n",
            "|       110|   1011|        511|2025-07-20 21:55:00|       4| 12.5|   50.0|    Widget J|  Electronics|\n",
            "|       111|   1012|        512|2025-07-21 22:30:00|       9| 10.0|   90.0|    Widget K|Home & Living|\n",
            "|       112|   1013|        513|2025-07-22 23:40:00|       8| 22.5|  180.0|    Widget L|  Electronics|\n",
            "|       113|   1014|        514|2025-07-23 09:15:00|       3| 17.0|   51.0|    Widget M|      Gadgets|\n",
            "|       114|   1015|        515|2025-07-24 10:35:00|       2| 45.5|   91.0|    Widget N|    Furniture|\n",
            "|       115|   1016|        516|2025-07-25 11:45:00|       4| 32.0|  128.0|    Widget O|      Gadgets|\n",
            "|       116|   1017|        517|2025-07-26 13:00:00|       5| 28.0|  140.0|    Widget P|Home & Living|\n",
            "|       117|   1018|        518|2025-07-27 14:15:00|       1| 50.0|   50.0|    Widget Q|  Electronics|\n",
            "|       118|   1019|        519|2025-07-28 15:30:00|       6| 18.5|  111.0|    Widget R|    Furniture|\n",
            "|       119|   1020|        520|2025-07-29 16:45:00|       7| 40.0|  280.0|    Widget S|      Gadgets|\n",
            "+----------+-------+-----------+-------------------+--------+-----+-------+------------+-------------+\n",
            "only showing top 20 rows\n",
            "\n"
          ]
        }
      ]
    },
    {
      "cell_type": "code",
      "source": [
        "# 3.5 Self-Join Sales Table on Same Product (Different Date)\n",
        "sales_self_join = sales_df.alias(\"s1\").join(\n",
        "    sales_df.alias(\"s2\"),\n",
        "    (col(\"s1.product_id\") == col(\"s2.product_id\")) & (col(\"s1.sale_date\") < col(\"s2.sale_date\"))\n",
        ")\n",
        "sales_self_join.select(\"s1.sale_id\", \"s1.sale_date\", \"s2.sale_date\", \"s1.product_id\").show()"
      ],
      "metadata": {
        "colab": {
          "base_uri": "https://localhost:8080/"
        },
        "id": "a6qLzbcnaEtI",
        "outputId": "ae5637c1-4975-49ca-a6fc-a84b4913a51e"
      },
      "execution_count": null,
      "outputs": [
        {
          "output_type": "stream",
          "name": "stdout",
          "text": [
            "+-------+-------------------+-------------------+----------+\n",
            "|sale_id|          sale_date|          sale_date|product_id|\n",
            "+-------+-------------------+-------------------+----------+\n",
            "|   1001|2025-07-10 08:23:00|2025-08-29 17:55:00|       101|\n",
            "|   1001|2025-07-10 08:23:00|2025-07-13 12:20:00|       101|\n",
            "|   1002|2025-07-11 09:45:00|2025-08-30 18:45:00|       102|\n",
            "|   1002|2025-07-11 09:45:00|2025-07-15 16:00:00|       102|\n",
            "|   1003|2025-07-12 10:15:00|2025-08-31 19:30:00|       103|\n",
            "|   1004|2025-07-13 12:20:00|2025-08-29 17:55:00|       101|\n",
            "|   1005|2025-07-14 14:35:00|2025-09-02 21:10:00|       105|\n",
            "|   1006|2025-07-15 16:00:00|2025-08-30 18:45:00|       102|\n",
            "|   1007|2025-07-16 17:10:00|2025-09-03 22:30:00|       106|\n",
            "|   1008|2025-07-17 18:25:00|2025-09-04 23:50:00|       107|\n",
            "|   1009|2025-07-18 19:30:00|2025-09-05 09:30:00|       108|\n",
            "|   1010|2025-07-19 20:45:00|2025-09-06 10:40:00|       109|\n",
            "|   1011|2025-07-20 21:55:00|2025-09-07 11:50:00|       110|\n",
            "|   1012|2025-07-21 22:30:00|2025-09-08 13:00:00|       111|\n",
            "|   1013|2025-07-22 23:40:00|2025-09-09 14:10:00|       112|\n",
            "|   1014|2025-07-23 09:15:00|2025-09-10 15:25:00|       113|\n",
            "|   1015|2025-07-24 10:35:00|2025-09-11 16:35:00|       114|\n",
            "|   1016|2025-07-25 11:45:00|2025-09-12 17:45:00|       115|\n",
            "|   1017|2025-07-26 13:00:00|2025-09-13 18:55:00|       116|\n",
            "|   1018|2025-07-27 14:15:00|2025-09-14 20:00:00|       117|\n",
            "+-------+-------------------+-------------------+----------+\n",
            "only showing top 20 rows\n",
            "\n"
          ]
        }
      ]
    },
    {
      "cell_type": "code",
      "source": [
        "# 3.6 Full Outer Join Sales and Products\n",
        "full_outer = sales_df.join(product_df, \"product_id\", \"outer\")\n",
        "full_outer.show()"
      ],
      "metadata": {
        "colab": {
          "base_uri": "https://localhost:8080/"
        },
        "id": "7W1I-HZqaJsJ",
        "outputId": "d8acb2aa-15a5-4747-ff20-726449c3b522"
      },
      "execution_count": null,
      "outputs": [
        {
          "output_type": "stream",
          "name": "stdout",
          "text": [
            "+----------+-------+-----------+-------------------+--------+-----+-------+------------+-------------+\n",
            "|product_id|sale_id|customer_id|          sale_date|quantity|price|revenue|product_name|     category|\n",
            "+----------+-------+-----------+-------------------+--------+-----+-------+------------+-------------+\n",
            "|       101|   1001|        501|2025-07-10 08:23:00|       3| 25.5|   76.5|    Widget A|      Gadgets|\n",
            "|       101|   1004|        504|2025-07-13 12:20:00|       5| 25.5|  127.5|    Widget A|      Gadgets|\n",
            "|       101|   1051|        551|2025-08-29 17:55:00|       3| 25.5|   76.5|    Widget A|      Gadgets|\n",
            "|       102|   1002|        502|2025-07-11 09:45:00|       2| 15.0|   30.0|    Widget B|      Gadgets|\n",
            "|       102|   1006|        506|2025-07-15 16:00:00|       4| 15.0|   60.0|    Widget B|      Gadgets|\n",
            "|       102|   1052|        552|2025-08-30 18:45:00|       4| 15.0|   60.0|    Widget B|      Gadgets|\n",
            "|       103|   1003|        503|2025-07-12 10:15:00|       1| 30.0|   30.0|    Widget C|  Electronics|\n",
            "|       103|   1053|        553|2025-08-31 19:30:00|       7| 30.0|  210.0|    Widget C|  Electronics|\n",
            "|       104|   1054|        554|2025-09-01 20:40:00|       5| 40.0|  200.0|    Widget D|  Electronics|\n",
            "|       105|   1005|        505|2025-07-14 14:35:00|      10| 45.0|  450.0|    Widget E|Home & Living|\n",
            "|       105|   1055|        555|2025-09-02 21:10:00|       2| 45.0|   90.0|    Widget E|Home & Living|\n",
            "|       106|   1007|        507|2025-07-16 17:10:00|       3| 40.0|  120.0|    Widget F|Home & Living|\n",
            "|       106|   1056|        556|2025-09-03 22:30:00|       8| 50.0|  400.0|    Widget F|Home & Living|\n",
            "|       107|   1008|        508|2025-07-17 18:25:00|       2| 60.0|  120.0|    Widget G|    Furniture|\n",
            "|       107|   1057|        557|2025-09-04 23:50:00|       3| 20.5|   61.5|    Widget G|    Furniture|\n",
            "|       108|   1009|        509|2025-07-18 19:30:00|       7| 25.0|  175.0|    Widget H|      Gadgets|\n",
            "|       108|   1058|        558|2025-09-05 09:30:00|       1| 60.0|   60.0|    Widget H|      Gadgets|\n",
            "|       109|   1010|        510|2025-07-19 20:45:00|       6| 50.0|  300.0|    Widget I|    Furniture|\n",
            "|       109|   1059|        559|2025-09-06 10:40:00|       6| 18.0|  108.0|    Widget I|    Furniture|\n",
            "|       110|   1011|        511|2025-07-20 21:55:00|       4| 12.5|   50.0|    Widget J|  Electronics|\n",
            "+----------+-------+-----------+-------------------+--------+-----+-------+------------+-------------+\n",
            "only showing top 20 rows\n",
            "\n"
          ]
        }
      ]
    },
    {
      "cell_type": "code",
      "source": [
        "# 3.7 Join Multiple Tables (Sales + Customer + Product)\n",
        "complete_view = sales_df.join(customer_df, \"customer_id\") \\\n",
        "                        .join(product_df, \"product_id\")\n",
        "complete_view.select(\"sale_id\", \"customer_name\", \"product_name\", \"category\", \"revenue\").show()"
      ],
      "metadata": {
        "colab": {
          "base_uri": "https://localhost:8080/"
        },
        "id": "75LcawU9aN_P",
        "outputId": "71478441-29a3-470a-ae84-2e78d7e58c38"
      },
      "execution_count": null,
      "outputs": [
        {
          "output_type": "stream",
          "name": "stdout",
          "text": [
            "+-------+-------------+------------+-------------+-------+\n",
            "|sale_id|customer_name|product_name|     category|revenue|\n",
            "+-------+-------------+------------+-------------+-------+\n",
            "|   1001|        Alice|    Widget A|      Gadgets|   76.5|\n",
            "|   1002|          Bob|    Widget B|      Gadgets|   30.0|\n",
            "|   1003|      Charlie|    Widget C|  Electronics|   30.0|\n",
            "|   1004|        David|    Widget A|      Gadgets|  127.5|\n",
            "|   1005|         Emma|    Widget E|Home & Living|  450.0|\n",
            "|   1006|        Frank|    Widget B|      Gadgets|   60.0|\n",
            "|   1007|        Grace|    Widget F|Home & Living|  120.0|\n",
            "|   1008|        Henry|    Widget G|    Furniture|  120.0|\n",
            "|   1009|       Isabel|    Widget H|      Gadgets|  175.0|\n",
            "|   1010|         Jack|    Widget I|    Furniture|  300.0|\n",
            "|   1011|         Kate|    Widget J|  Electronics|   50.0|\n",
            "|   1012|         Liam|    Widget K|Home & Living|   90.0|\n",
            "|   1013|         Mona|    Widget L|  Electronics|  180.0|\n",
            "|   1014|         Nina|    Widget M|      Gadgets|   51.0|\n",
            "|   1015|        Oscar|    Widget N|    Furniture|   91.0|\n",
            "|   1016|         Paul|    Widget O|      Gadgets|  128.0|\n",
            "|   1017|        Quinn|    Widget P|Home & Living|  140.0|\n",
            "|   1018|         Rita|    Widget Q|  Electronics|   50.0|\n",
            "|   1019|         Sara|    Widget R|    Furniture|  111.0|\n",
            "|   1020|          Tom|    Widget S|      Gadgets|  280.0|\n",
            "+-------+-------------+------------+-------------+-------+\n",
            "only showing top 20 rows\n",
            "\n"
          ]
        }
      ]
    },
    {
      "cell_type": "code",
      "source": [
        "# 4. Transformations\n",
        "# 4.1 Filter Data for Specific Date Range\n",
        "from pyspark.sql.functions import to_date\n",
        "\n",
        "filtered_sales = sales_df.filter((col(\"sale_date\") >= \"2025-07-10\") & (col(\"sale_date\") <= \"2025-07-15\"))\n",
        "filtered_sales.show()"
      ],
      "metadata": {
        "colab": {
          "base_uri": "https://localhost:8080/"
        },
        "id": "-SgAyqHOaSyr",
        "outputId": "194748f7-9024-41c5-bdc0-5c7b4615c8fd"
      },
      "execution_count": null,
      "outputs": [
        {
          "output_type": "stream",
          "name": "stdout",
          "text": [
            "+-------+----------+-----------+-------------------+--------+-----+-------+\n",
            "|sale_id|product_id|customer_id|          sale_date|quantity|price|revenue|\n",
            "+-------+----------+-----------+-------------------+--------+-----+-------+\n",
            "|   1001|       101|        501|2025-07-10 08:23:00|       3| 25.5|   76.5|\n",
            "|   1002|       102|        502|2025-07-11 09:45:00|       2| 15.0|   30.0|\n",
            "|   1003|       103|        503|2025-07-12 10:15:00|       1| 30.0|   30.0|\n",
            "|   1004|       101|        504|2025-07-13 12:20:00|       5| 25.5|  127.5|\n",
            "|   1005|       105|        505|2025-07-14 14:35:00|      10| 45.0|  450.0|\n",
            "+-------+----------+-----------+-------------------+--------+-----+-------+\n",
            "\n"
          ]
        }
      ]
    },
    {
      "cell_type": "code",
      "source": [
        "# 4.2 Top 5 Customers by Total Spend\n",
        "top_customers = sales_df.groupBy(\"customer_id\").agg(sum(\"revenue\").alias(\"total_spent\")) \\\n",
        "                        .orderBy(desc(\"total_spent\")).limit(5)\n",
        "top_customers.show()"
      ],
      "metadata": {
        "colab": {
          "base_uri": "https://localhost:8080/"
        },
        "id": "_t8gKhG2ahGg",
        "outputId": "67c240a3-a708-4970-d8cb-ddf964bef916"
      },
      "execution_count": null,
      "outputs": [
        {
          "output_type": "stream",
          "name": "stdout",
          "text": [
            "+-----------+-----------+\n",
            "|customer_id|total_spent|\n",
            "+-----------+-----------+\n",
            "|        505|      450.0|\n",
            "|        556|      400.0|\n",
            "|        565|      356.0|\n",
            "|        510|      300.0|\n",
            "|        520|      280.0|\n",
            "+-----------+-----------+\n",
            "\n"
          ]
        }
      ]
    },
    {
      "cell_type": "code",
      "source": [
        "# 4.3 Categorize Customers Based on Spend\n",
        "spend_df = sales_df.groupBy(\"customer_id\").agg(sum(\"revenue\").alias(\"total_spent\"))\n",
        "\n",
        "spend_categorized = spend_df.withColumn(\"spend_category\",\n",
        "    when(col(\"total_spent\") < 100, \"Low\")\n",
        "    .when(col(\"total_spent\") < 300, \"Medium\")\n",
        "    .otherwise(\"High\")\n",
        ")\n",
        "spend_categorized.show()"
      ],
      "metadata": {
        "colab": {
          "base_uri": "https://localhost:8080/"
        },
        "id": "r55j7-1xamP6",
        "outputId": "000c5da9-0554-43de-c53c-38ce1e1bdd17"
      },
      "execution_count": null,
      "outputs": [
        {
          "output_type": "stream",
          "name": "stdout",
          "text": [
            "+-----------+-----------+--------------+\n",
            "|customer_id|total_spent|spend_category|\n",
            "+-----------+-----------+--------------+\n",
            "|        540|       55.5|           Low|\n",
            "|        516|      128.0|        Medium|\n",
            "|        513|      180.0|        Medium|\n",
            "|        530|       76.0|           Low|\n",
            "|        501|       76.5|           Low|\n",
            "|        548|      198.0|        Medium|\n",
            "|        539|      210.0|        Medium|\n",
            "|        519|      111.0|        Medium|\n",
            "|        556|      400.0|          High|\n",
            "|        512|       90.0|           Low|\n",
            "|        570|      120.0|        Medium|\n",
            "|        559|      108.0|        Medium|\n",
            "|        545|       91.5|           Low|\n",
            "|        507|      120.0|        Medium|\n",
            "|        544|       84.0|           Low|\n",
            "|        542|      172.0|        Medium|\n",
            "|        553|      210.0|        Medium|\n",
            "|        560|      160.0|        Medium|\n",
            "|        504|      127.5|        Medium|\n",
            "|        554|      200.0|        Medium|\n",
            "+-----------+-----------+--------------+\n",
            "only showing top 20 rows\n",
            "\n"
          ]
        }
      ]
    },
    {
      "cell_type": "code",
      "source": [
        "# 4.4 First and Last Purchase for Each Customer\n",
        "first_last = sales_df.groupBy(\"customer_id\").agg(\n",
        "    min(\"sale_date\").alias(\"first_purchase\"),\n",
        "    max(\"sale_date\").alias(\"last_purchase\")\n",
        ")\n",
        "first_last.show()"
      ],
      "metadata": {
        "colab": {
          "base_uri": "https://localhost:8080/"
        },
        "id": "bGVD-tCbarEg",
        "outputId": "8976ce36-6f2d-4384-de04-3ed3452f4144"
      },
      "execution_count": null,
      "outputs": [
        {
          "output_type": "stream",
          "name": "stdout",
          "text": [
            "+-----------+-------------------+-------------------+\n",
            "|customer_id|     first_purchase|      last_purchase|\n",
            "+-----------+-------------------+-------------------+\n",
            "|        540|2025-08-18 21:25:00|2025-08-18 21:25:00|\n",
            "|        516|2025-07-25 11:45:00|2025-07-25 11:45:00|\n",
            "|        513|2025-07-22 23:40:00|2025-07-22 23:40:00|\n",
            "|        530|2025-08-08 11:00:00|2025-08-08 11:00:00|\n",
            "|        501|2025-07-10 08:23:00|2025-07-10 08:23:00|\n",
            "|        548|2025-08-26 14:25:00|2025-08-26 14:25:00|\n",
            "|        539|2025-08-17 20:15:00|2025-08-17 20:15:00|\n",
            "|        519|2025-07-28 15:30:00|2025-07-28 15:30:00|\n",
            "|        556|2025-09-03 22:30:00|2025-09-03 22:30:00|\n",
            "|        512|2025-07-21 22:30:00|2025-07-21 22:30:00|\n",
            "|        570|2025-09-17 23:00:00|2025-09-17 23:00:00|\n",
            "|        559|2025-09-06 10:40:00|2025-09-06 10:40:00|\n",
            "|        545|2025-08-23 11:40:00|2025-08-23 11:40:00|\n",
            "|        507|2025-07-16 17:10:00|2025-07-16 17:10:00|\n",
            "|        544|2025-08-22 10:30:00|2025-08-22 10:30:00|\n",
            "|        542|2025-08-20 23:10:00|2025-08-20 23:10:00|\n",
            "|        553|2025-08-31 19:30:00|2025-08-31 19:30:00|\n",
            "|        560|2025-09-07 11:50:00|2025-09-07 11:50:00|\n",
            "|        504|2025-07-13 12:20:00|2025-07-13 12:20:00|\n",
            "|        554|2025-09-01 20:40:00|2025-09-01 20:40:00|\n",
            "+-----------+-------------------+-------------------+\n",
            "only showing top 20 rows\n",
            "\n"
          ]
        }
      ]
    },
    {
      "cell_type": "code",
      "source": [
        "# 4.5 Customer Churn (No Purchase in Last 30 Days)\n",
        "from pyspark.sql.functions import current_date, datediff\n",
        "\n",
        "# Assume latest sale date from data\n",
        "latest_sale_date = sales_df.agg(max(\"sale_date\")).collect()[0][0]\n",
        "\n",
        "churn_df = sales_df.groupBy(\"customer_id\").agg(max(\"sale_date\").alias(\"last_purchase\"))\n",
        "churned_customers = churn_df.filter(datediff(lit(latest_sale_date), col(\"last_purchase\")) > 30)\n",
        "churned_customers.show()"
      ],
      "metadata": {
        "colab": {
          "base_uri": "https://localhost:8080/"
        },
        "id": "pH_U-4kvavaM",
        "outputId": "efa052a6-48e5-49d9-a0b2-5babb0f00a60"
      },
      "execution_count": null,
      "outputs": [
        {
          "output_type": "stream",
          "name": "stdout",
          "text": [
            "+-----------+-------------------+\n",
            "|customer_id|      last_purchase|\n",
            "+-----------+-------------------+\n",
            "|        516|2025-07-25 11:45:00|\n",
            "|        513|2025-07-22 23:40:00|\n",
            "|        530|2025-08-08 11:00:00|\n",
            "|        501|2025-07-10 08:23:00|\n",
            "|        539|2025-08-17 20:15:00|\n",
            "|        519|2025-07-28 15:30:00|\n",
            "|        512|2025-07-21 22:30:00|\n",
            "|        507|2025-07-16 17:10:00|\n",
            "|        504|2025-07-13 12:20:00|\n",
            "|        511|2025-07-20 21:55:00|\n",
            "|        502|2025-07-11 09:45:00|\n",
            "|        523|2025-08-01 19:00:00|\n",
            "|        531|2025-08-09 12:20:00|\n",
            "|        505|2025-07-14 14:35:00|\n",
            "|        538|2025-08-16 19:00:00|\n",
            "|        503|2025-07-12 10:15:00|\n",
            "|        537|2025-08-15 18:30:00|\n",
            "|        520|2025-07-29 16:45:00|\n",
            "|        514|2025-07-23 09:15:00|\n",
            "|        532|2025-08-10 13:30:00|\n",
            "+-----------+-------------------+\n",
            "only showing top 20 rows\n",
            "\n"
          ]
        }
      ]
    },
    {
      "cell_type": "markdown",
      "source": [
        "## Adv. PySpark(Window Functions)"
      ],
      "metadata": {
        "id": "CBmRIxh6ai3G"
      }
    },
    {
      "cell_type": "code",
      "source": [
        "from pyspark.sql import SparkSession\n",
        "from pyspark.sql.functions import *\n",
        "\n",
        "spark = SparkSession.builder.appName(\"AdvancedOps\").getOrCreate()\n",
        "\n",
        "data = [\n",
        "    (1, \"Alice\", 2000, [\"math\", \"science\"], {\"city\": \"NYC\", \"zip\": \"10001\"}),\n",
        "    (2, \"Bob\", 1500, [\"english\"], {\"city\": \"SF\", \"zip\": \"94105\"}),\n",
        "    (3, \"Charlie\", 2200, [\"math\", \"history\", \"science\"], {\"city\": \"NYC\", \"zip\": \"10001\"}),\n",
        "    (4, \"David\", 1200, [\"art\"], {\"city\": \"LA\", \"zip\": \"90001\"}),\n",
        "]\n",
        "\n",
        "df = spark.createDataFrame(data, schema=[\"id\", \"name\", \"salary\", \"subjects\", \"address\"])\n",
        "df.show(truncate=False)"
      ],
      "metadata": {
        "colab": {
          "base_uri": "https://localhost:8080/"
        },
        "id": "6pX62A5japKb",
        "outputId": "e3873720-7d9c-4067-e971-639f63f40c36"
      },
      "execution_count": null,
      "outputs": [
        {
          "output_type": "stream",
          "name": "stdout",
          "text": [
            "+---+-------+------+------------------------+---------------------------+\n",
            "|id |name   |salary|subjects                |address                    |\n",
            "+---+-------+------+------------------------+---------------------------+\n",
            "|1  |Alice  |2000  |[math, science]         |{zip -> 10001, city -> NYC}|\n",
            "|2  |Bob    |1500  |[english]               |{zip -> 94105, city -> SF} |\n",
            "|3  |Charlie|2200  |[math, history, science]|{zip -> 10001, city -> NYC}|\n",
            "|4  |David  |1200  |[art]                   |{zip -> 90001, city -> LA} |\n",
            "+---+-------+------+------------------------+---------------------------+\n",
            "\n"
          ]
        }
      ]
    },
    {
      "cell_type": "code",
      "source": [
        "from pyspark.sql.window import Window\n",
        "window_spec = Window.partitionBy(\"address.city\").orderBy(\"salary\")\n",
        "df.withColumn(\"rank\", rank().over(window_spec)).show()"
      ],
      "metadata": {
        "colab": {
          "base_uri": "https://localhost:8080/"
        },
        "id": "MPtR98eCbBgn",
        "outputId": "e5cd8cde-ba10-42a2-f7a9-d34d428e9eca"
      },
      "execution_count": null,
      "outputs": [
        {
          "output_type": "stream",
          "name": "stdout",
          "text": [
            "+---+-------+------+--------------------+--------------------+----+\n",
            "| id|   name|salary|            subjects|             address|rank|\n",
            "+---+-------+------+--------------------+--------------------+----+\n",
            "|  4|  David|  1200|               [art]|{zip -> 90001, ci...|   1|\n",
            "|  1|  Alice|  2000|     [math, science]|{zip -> 10001, ci...|   1|\n",
            "|  3|Charlie|  2200|[math, history, s...|{zip -> 10001, ci...|   2|\n",
            "|  2|    Bob|  1500|           [english]|{zip -> 94105, ci...|   1|\n",
            "+---+-------+------+--------------------+--------------------+----+\n",
            "\n"
          ]
        }
      ]
    },
    {
      "cell_type": "code",
      "source": [
        "from pyspark.sql.window import Window\n",
        "from pyspark.sql.functions import col, row_number, rank, dense_rank, max, sum, avg\n",
        "\n",
        "# Employee Data\n",
        "data = [\n",
        "    (1, \"John\", \"Sales\", 3000),\n",
        "    (2, \"Jane\", \"Finance\", 4000),\n",
        "    (3, \"Mike\", \"Sales\", 3500),\n",
        "    (4, \"Alice\", \"Finance\", 3800),\n",
        "    (5, \"Bob\", \"IT\", 4500),\n",
        "    (6, \"Tom\", \"Sales\", 3700),\n",
        "    (7, \"Jerry\", \"Finance\", 4200),\n",
        "    (8, \"Sam\", \"IT\", 4700),\n",
        "    (9, \"Steve\", \"Sales\", 3100),\n",
        "    (10, \"Rachel\", \"IT\", 4600)\n",
        "]\n",
        "columns = [\"EmpID\", \"Name\", \"Department\", \"Salary\"]\n",
        "df = spark.createDataFrame(data, columns)\n",
        "\n",
        "df.show()"
      ],
      "metadata": {
        "colab": {
          "base_uri": "https://localhost:8080/"
        },
        "id": "-n8hQTWebcbA",
        "outputId": "8b945dcb-61b5-4305-df48-f839c974c077"
      },
      "execution_count": null,
      "outputs": [
        {
          "output_type": "stream",
          "name": "stdout",
          "text": [
            "+-----+------+----------+------+\n",
            "|EmpID|  Name|Department|Salary|\n",
            "+-----+------+----------+------+\n",
            "|    1|  John|     Sales|  3000|\n",
            "|    2|  Jane|   Finance|  4000|\n",
            "|    3|  Mike|     Sales|  3500|\n",
            "|    4| Alice|   Finance|  3800|\n",
            "|    5|   Bob|        IT|  4500|\n",
            "|    6|   Tom|     Sales|  3700|\n",
            "|    7| Jerry|   Finance|  4200|\n",
            "|    8|   Sam|        IT|  4700|\n",
            "|    9| Steve|     Sales|  3100|\n",
            "|   10|Rachel|        IT|  4600|\n",
            "+-----+------+----------+------+\n",
            "\n"
          ]
        }
      ]
    },
    {
      "cell_type": "code",
      "source": [
        "windowSpec= Window.partitionBy(\"Department\").orderBy(col(\"Salary\").desc())\n",
        "df.withColumn(\"Rank\", rank().over(windowSpec)).show()"
      ],
      "metadata": {
        "colab": {
          "base_uri": "https://localhost:8080/"
        },
        "id": "SUl613YedXwO",
        "outputId": "1d98aebe-7adc-4723-b571-0aec2e4fc06a"
      },
      "execution_count": null,
      "outputs": [
        {
          "output_type": "stream",
          "name": "stdout",
          "text": [
            "+-----+------+----------+------+----+\n",
            "|EmpID|  Name|Department|Salary|Rank|\n",
            "+-----+------+----------+------+----+\n",
            "|    7| Jerry|   Finance|  4200|   1|\n",
            "|    2|  Jane|   Finance|  4000|   2|\n",
            "|    4| Alice|   Finance|  3800|   3|\n",
            "|    8|   Sam|        IT|  4700|   1|\n",
            "|   10|Rachel|        IT|  4600|   2|\n",
            "|    5|   Bob|        IT|  4500|   3|\n",
            "|    6|   Tom|     Sales|  3700|   1|\n",
            "|    3|  Mike|     Sales|  3500|   2|\n",
            "|    9| Steve|     Sales|  3100|   3|\n",
            "|    1|  John|     Sales|  3000|   4|\n",
            "+-----+------+----------+------+----+\n",
            "\n"
          ]
        }
      ]
    },
    {
      "cell_type": "code",
      "source": [
        "windowSpec = Window.partitionBy(\"Department\")\n",
        "df.withColumn(\"Max_Salary\", max(\"Salary\").over(windowSpec)).show()"
      ],
      "metadata": {
        "colab": {
          "base_uri": "https://localhost:8080/"
        },
        "id": "bMo5CB9FdxJO",
        "outputId": "b524caba-1add-468e-d243-3a2e7d329c32"
      },
      "execution_count": null,
      "outputs": [
        {
          "output_type": "stream",
          "name": "stdout",
          "text": [
            "+-----+------+----------+------+----------+\n",
            "|EmpID|  Name|Department|Salary|Max_Salary|\n",
            "+-----+------+----------+------+----------+\n",
            "|    2|  Jane|   Finance|  4000|      4200|\n",
            "|    4| Alice|   Finance|  3800|      4200|\n",
            "|    7| Jerry|   Finance|  4200|      4200|\n",
            "|    5|   Bob|        IT|  4500|      4700|\n",
            "|    8|   Sam|        IT|  4700|      4700|\n",
            "|   10|Rachel|        IT|  4600|      4700|\n",
            "|    1|  John|     Sales|  3000|      3700|\n",
            "|    3|  Mike|     Sales|  3500|      3700|\n",
            "|    6|   Tom|     Sales|  3700|      3700|\n",
            "|    9| Steve|     Sales|  3100|      3700|\n",
            "+-----+------+----------+------+----------+\n",
            "\n"
          ]
        }
      ]
    },
    {
      "cell_type": "code",
      "source": [
        "#department name and max salary\n",
        "window_spec = Window.partitionBy(\"Department\").orderBy(col(\"Salary\").desc())\n",
        "\n",
        "df.withColumn(\"Max Salary\", max(\"Salary\").over(window_spec)).select(\"Department\", \"Max Salary\").distinct().show()"
      ],
      "metadata": {
        "colab": {
          "base_uri": "https://localhost:8080/"
        },
        "id": "WjXs9NJBejI6",
        "outputId": "7f8ea14d-4f01-4e47-eb04-a4bdc13ee39a"
      },
      "execution_count": null,
      "outputs": [
        {
          "output_type": "stream",
          "name": "stdout",
          "text": [
            "+----------+----------+\n",
            "|Department|Max Salary|\n",
            "+----------+----------+\n",
            "|   Finance|      4200|\n",
            "|        IT|      4700|\n",
            "|     Sales|      3700|\n",
            "+----------+----------+\n",
            "\n"
          ]
        }
      ]
    },
    {
      "cell_type": "code",
      "source": [
        "windowSpec = Window.partitionBy(\"Department\").orderBy(col(\"Salary\")).rowsBetween(Window.unboundedPreceding, 0)\n",
        "df.withColumn(\"Cumulative Salary\", sum(\"Salary\").over(windowSpec)).show()"
      ],
      "metadata": {
        "id": "XhcFniHBfO70",
        "colab": {
          "base_uri": "https://localhost:8080/"
        },
        "outputId": "259613de-2053-4d56-e3ab-125a738c193e"
      },
      "execution_count": null,
      "outputs": [
        {
          "output_type": "stream",
          "name": "stdout",
          "text": [
            "+-----+------+----------+------+-----------------+\n",
            "|EmpID|  Name|Department|Salary|Cumulative Salary|\n",
            "+-----+------+----------+------+-----------------+\n",
            "|    4| Alice|   Finance|  3800|             3800|\n",
            "|    2|  Jane|   Finance|  4000|             7800|\n",
            "|    7| Jerry|   Finance|  4200|            12000|\n",
            "|    5|   Bob|        IT|  4500|             4500|\n",
            "|   10|Rachel|        IT|  4600|             9100|\n",
            "|    8|   Sam|        IT|  4700|            13800|\n",
            "|    1|  John|     Sales|  3000|             3000|\n",
            "|    9| Steve|     Sales|  3100|             6100|\n",
            "|    3|  Mike|     Sales|  3500|             9600|\n",
            "|    6|   Tom|     Sales|  3700|            13300|\n",
            "+-----+------+----------+------+-----------------+\n",
            "\n"
          ]
        }
      ]
    },
    {
      "cell_type": "code",
      "source": [
        "from pyspark.sql.window import Window\n",
        "from pyspark.sql.functions import col,sum\n",
        "\n",
        "window_base=Window.partitionBy(\"Department\").orderBy(\"Salary\")\n",
        "df.withColumn(\"Cumulative Salary\", sum(\"Salary\").over(window_base)).show()"
      ],
      "metadata": {
        "colab": {
          "base_uri": "https://localhost:8080/"
        },
        "id": "WR5p-BMJ4USD",
        "outputId": "16c7137e-9742-4c88-e390-ffb1c4f32200"
      },
      "execution_count": null,
      "outputs": [
        {
          "output_type": "stream",
          "name": "stdout",
          "text": [
            "+-----+------+----------+------+-----------------+\n",
            "|EmpID|  Name|Department|Salary|Cumulative Salary|\n",
            "+-----+------+----------+------+-----------------+\n",
            "|    4| Alice|   Finance|  3800|             3800|\n",
            "|    2|  Jane|   Finance|  4000|             7800|\n",
            "|    7| Jerry|   Finance|  4200|            12000|\n",
            "|    5|   Bob|        IT|  4500|             4500|\n",
            "|   10|Rachel|        IT|  4600|             9100|\n",
            "|    8|   Sam|        IT|  4700|            13800|\n",
            "|    1|  John|     Sales|  3000|             3000|\n",
            "|    9| Steve|     Sales|  3100|             6100|\n",
            "|    3|  Mike|     Sales|  3500|             9600|\n",
            "|    6|   Tom|     Sales|  3700|            13300|\n",
            "+-----+------+----------+------+-----------------+\n",
            "\n"
          ]
        }
      ]
    },
    {
      "cell_type": "code",
      "source": [
        "window_full_partition =Window.partitionBy(\"Department\")\n",
        "df.withColumn(\"Cumulative Salary\", sum(\"Salary\").over(window_full_partition)).show()"
      ],
      "metadata": {
        "colab": {
          "base_uri": "https://localhost:8080/"
        },
        "id": "dpE6ehCU5vNr",
        "outputId": "c20e8ff1-7dde-45e8-ead7-11fa40161f14"
      },
      "execution_count": null,
      "outputs": [
        {
          "output_type": "stream",
          "name": "stdout",
          "text": [
            "+-----+------+----------+------+-----------------+\n",
            "|EmpID|  Name|Department|Salary|Cumulative Salary|\n",
            "+-----+------+----------+------+-----------------+\n",
            "|    2|  Jane|   Finance|  4000|            12000|\n",
            "|    4| Alice|   Finance|  3800|            12000|\n",
            "|    7| Jerry|   Finance|  4200|            12000|\n",
            "|    5|   Bob|        IT|  4500|            13800|\n",
            "|    8|   Sam|        IT|  4700|            13800|\n",
            "|   10|Rachel|        IT|  4600|            13800|\n",
            "|    1|  John|     Sales|  3000|            13300|\n",
            "|    3|  Mike|     Sales|  3500|            13300|\n",
            "|    6|   Tom|     Sales|  3700|            13300|\n",
            "|    9| Steve|     Sales|  3100|            13300|\n",
            "+-----+------+----------+------+-----------------+\n",
            "\n"
          ]
        }
      ]
    },
    {
      "cell_type": "code",
      "source": [
        "window_base=Window.partitionBy(\"Department\").orderBy(\"Salary\")\n",
        "window_current=window_base.rowsBetween(0,0)\n",
        "df.withColumn(\"Salary_CurrentOnly\", sum(\"Salary\").over(window_current)).show()"
      ],
      "metadata": {
        "colab": {
          "base_uri": "https://localhost:8080/"
        },
        "id": "joHxqXK559jC",
        "outputId": "645e2d75-0e71-4b7b-db2e-ca8c56334908"
      },
      "execution_count": null,
      "outputs": [
        {
          "output_type": "stream",
          "name": "stdout",
          "text": [
            "+-----+------+----------+------+------------------+\n",
            "|EmpID|  Name|Department|Salary|Salary_CurrentOnly|\n",
            "+-----+------+----------+------+------------------+\n",
            "|    4| Alice|   Finance|  3800|              3800|\n",
            "|    2|  Jane|   Finance|  4000|              4000|\n",
            "|    7| Jerry|   Finance|  4200|              4200|\n",
            "|    5|   Bob|        IT|  4500|              4500|\n",
            "|   10|Rachel|        IT|  4600|              4600|\n",
            "|    8|   Sam|        IT|  4700|              4700|\n",
            "|    1|  John|     Sales|  3000|              3000|\n",
            "|    9| Steve|     Sales|  3100|              3100|\n",
            "|    3|  Mike|     Sales|  3500|              3500|\n",
            "|    6|   Tom|     Sales|  3700|              3700|\n",
            "+-----+------+----------+------+------------------+\n",
            "\n"
          ]
        }
      ]
    },
    {
      "cell_type": "code",
      "source": [
        "from pyspark.sql import SparkSession\n",
        "from pyspark.sql.functions import *\n",
        "\n",
        "spark = SparkSession.builder.appName(\"AdvancedOps\").getOrCreate()\n",
        "\n",
        "data = [\n",
        "    (1, \"Alice\", 2000, [\"math\", \"science\"], {\"city\": \"NYC\", \"zip\": \"10001\"}),\n",
        "    (2, \"Bob\", 1500, [\"english\"], {\"city\": \"SF\", \"zip\": \"94105\"}),\n",
        "    (3, \"Charlie\", 2200, [\"math\", \"history\", \"science\"], {\"city\": \"NYC\", \"zip\": \"10001\"}),\n",
        "    (4, \"David\", 1200, [\"art\"], {\"city\": \"LA\", \"zip\": \"90001\"}),\n",
        "]\n",
        "\n",
        "df = spark.createDataFrame(data, schema=[\"id\", \"name\", \"salary\", \"subjects\", \"address\"])\n",
        "df.show(truncate=False)"
      ],
      "metadata": {
        "colab": {
          "base_uri": "https://localhost:8080/"
        },
        "id": "eU9J2Xj_6zOx",
        "outputId": "ec587ee3-39cb-407c-bdab-ae45500b5268"
      },
      "execution_count": null,
      "outputs": [
        {
          "output_type": "stream",
          "name": "stdout",
          "text": [
            "+---+-------+------+------------------------+---------------------------+\n",
            "|id |name   |salary|subjects                |address                    |\n",
            "+---+-------+------+------------------------+---------------------------+\n",
            "|1  |Alice  |2000  |[math, science]         |{zip -> 10001, city -> NYC}|\n",
            "|2  |Bob    |1500  |[english]               |{zip -> 94105, city -> SF} |\n",
            "|3  |Charlie|2200  |[math, history, science]|{zip -> 10001, city -> NYC}|\n",
            "|4  |David  |1200  |[art]                   |{zip -> 90001, city -> LA} |\n",
            "+---+-------+------+------------------------+---------------------------+\n",
            "\n"
          ]
        }
      ]
    },
    {
      "cell_type": "code",
      "source": [
        "from pyspark.sql.types import IntegerType\n",
        "from pyspark.sql.functions import udf\n",
        "@udf(IntegerType())\n",
        "def subject_count(subjects):\n",
        "  return len(subjects)\n",
        "\n",
        "df.withColumn(\"subject_count\", subject_count(df.subjects)).show()\n"
      ],
      "metadata": {
        "colab": {
          "base_uri": "https://localhost:8080/"
        },
        "id": "bXPh1nFz7ivK",
        "outputId": "5b3d6666-cc0f-4b78-900d-ac59b1545f14"
      },
      "execution_count": null,
      "outputs": [
        {
          "output_type": "stream",
          "name": "stdout",
          "text": [
            "+---+-------+------+--------------------+--------------------+-------------+\n",
            "| id|   name|salary|            subjects|             address|subject_count|\n",
            "+---+-------+------+--------------------+--------------------+-------------+\n",
            "|  1|  Alice|  2000|     [math, science]|{zip -> 10001, ci...|            2|\n",
            "|  2|    Bob|  1500|           [english]|{zip -> 94105, ci...|            1|\n",
            "|  3|Charlie|  2200|[math, history, s...|{zip -> 10001, ci...|            3|\n",
            "|  4|  David|  1200|               [art]|{zip -> 90001, ci...|            1|\n",
            "+---+-------+------+--------------------+--------------------+-------------+\n",
            "\n"
          ]
        }
      ]
    },
    {
      "cell_type": "code",
      "source": [
        "import pandas as pd\n",
        "from pyspark.sql.functions import pandas_udf\n",
        "from pyspark.sql.types import DoubleType\n",
        "\n",
        "@pandas_udf(DoubleType())\n",
        "def multiply_by_two(s: pd.Series) -> pd.Series:\n",
        "    return s * 2\n",
        "\n",
        "df.withColumn(\"double_salary\",multiply_by_two(df.salary)).show()"
      ],
      "metadata": {
        "colab": {
          "base_uri": "https://localhost:8080/"
        },
        "id": "DsMEOh6b898p",
        "outputId": "1be997b3-1029-4fcb-8283-c77731186c4d"
      },
      "execution_count": null,
      "outputs": [
        {
          "output_type": "stream",
          "name": "stdout",
          "text": [
            "+---+-------+------+--------------------+--------------------+-------------+\n",
            "| id|   name|salary|            subjects|             address|double_salary|\n",
            "+---+-------+------+--------------------+--------------------+-------------+\n",
            "|  1|  Alice|  2000|     [math, science]|{zip -> 10001, ci...|       4000.0|\n",
            "|  2|    Bob|  1500|           [english]|{zip -> 94105, ci...|       3000.0|\n",
            "|  3|Charlie|  2200|[math, history, s...|{zip -> 10001, ci...|       4400.0|\n",
            "|  4|  David|  1200|               [art]|{zip -> 90001, ci...|       2400.0|\n",
            "+---+-------+------+--------------------+--------------------+-------------+\n",
            "\n"
          ]
        }
      ]
    },
    {
      "cell_type": "code",
      "source": [
        "from pyspark.sql import SparkSession\n",
        "\n",
        "spark = SparkSession.builder \\\n",
        "    .appName(\"PySpark Use Case Activities\") \\\n",
        "    .getOrCreate()\n",
        "\n",
        "from pyspark.sql.functions import col, rank, avg, udf, pandas_udf\n",
        "from pyspark.sql.window import Window\n",
        "import pandas as pd\n",
        "\n",
        "employees_data = [\n",
        "    (1, \"Alice\", \"HR\", 3000),\n",
        "    (2, \"Bob\", \"IT\", 4000),\n",
        "    (3, \"Cathy\", \"HR\", 3500),\n",
        "    (4, \"David\", \"IT\", 4500),\n",
        "    (5, \"Eve\", \"Finance\", 5000),\n",
        "    (6, \"Frank\", \"Finance\", 4800),\n",
        "]\n",
        "\n",
        "employees_df = spark.createDataFrame(employees_data, [\"id\", \"name\", \"department\", \"salary\"])\n",
        "employees_df.show()\n",
        "\n",
        "departments_data = [\n",
        "    (\"HR\", \"New York\"),\n",
        "    (\"IT\", \"San Francisco\"),\n",
        "    (\"Finance\", \"Chicago\"),\n",
        "]\n",
        "\n",
        "departments_df = spark.createDataFrame(departments_data, [\"department\", \"location\"])\n",
        "departments_df.show()"
      ],
      "metadata": {
        "colab": {
          "base_uri": "https://localhost:8080/"
        },
        "id": "vnH6nr61-mGX",
        "outputId": "966bf028-e140-46dc-82a8-275ff969545a"
      },
      "execution_count": null,
      "outputs": [
        {
          "output_type": "stream",
          "name": "stdout",
          "text": [
            "+---+-----+----------+------+\n",
            "| id| name|department|salary|\n",
            "+---+-----+----------+------+\n",
            "|  1|Alice|        HR|  3000|\n",
            "|  2|  Bob|        IT|  4000|\n",
            "|  3|Cathy|        HR|  3500|\n",
            "|  4|David|        IT|  4500|\n",
            "|  5|  Eve|   Finance|  5000|\n",
            "|  6|Frank|   Finance|  4800|\n",
            "+---+-----+----------+------+\n",
            "\n",
            "+----------+-------------+\n",
            "|department|     location|\n",
            "+----------+-------------+\n",
            "|        HR|     New York|\n",
            "|        IT|San Francisco|\n",
            "|   Finance|      Chicago|\n",
            "+----------+-------------+\n",
            "\n"
          ]
        }
      ]
    },
    {
      "cell_type": "code",
      "source": [
        "from pyspark.sql.window import Window\n",
        "from pyspark.sql.functions import rank, col\n",
        "\n",
        "windowSpec = Window.partitionBy(\"department\").orderBy(col(\"salary\").desc())\n",
        "\n",
        "ranked_employees_df = employees_df.withColumn(\"Rank\", rank().over(windowSpec))\n",
        "\n",
        "ranked_employees_df.show()"
      ],
      "metadata": {
        "colab": {
          "base_uri": "https://localhost:8080/"
        },
        "id": "BdyGBDfyCg16",
        "outputId": "15d81428-68a3-4aaa-f6ce-b5191e672a7d"
      },
      "execution_count": null,
      "outputs": [
        {
          "output_type": "stream",
          "name": "stdout",
          "text": [
            "+---+-----+----------+------+----+\n",
            "| id| name|department|salary|Rank|\n",
            "+---+-----+----------+------+----+\n",
            "|  5|  Eve|   Finance|  5000|   1|\n",
            "|  6|Frank|   Finance|  4800|   2|\n",
            "|  3|Cathy|        HR|  3500|   1|\n",
            "|  1|Alice|        HR|  3000|   2|\n",
            "|  4|David|        IT|  4500|   1|\n",
            "|  2|  Bob|        IT|  4000|   2|\n",
            "+---+-----+----------+------+----+\n",
            "\n"
          ]
        }
      ]
    },
    {
      "cell_type": "code",
      "source": [
        "from pyspark.sql.window import Window\n",
        "from pyspark.sql.functions import avg, col\n",
        "\n",
        "windowSpec = Window.partitionBy(\"department\")\n",
        "\n",
        "avg_salary_df = employees_df.withColumn(\"Avg_Salary_Per_Dept\", avg(\"salary\").over(windowSpec))\n",
        "\n",
        "avg_salary_df.show()"
      ],
      "metadata": {
        "colab": {
          "base_uri": "https://localhost:8080/"
        },
        "id": "0eYZuwfLCiyP",
        "outputId": "298ecfd8-4154-453b-f251-2ba2f4a698b7"
      },
      "execution_count": null,
      "outputs": [
        {
          "output_type": "stream",
          "name": "stdout",
          "text": [
            "+---+-----+----------+------+-------------------+\n",
            "| id| name|department|salary|Avg_Salary_Per_Dept|\n",
            "+---+-----+----------+------+-------------------+\n",
            "|  5|  Eve|   Finance|  5000|             4900.0|\n",
            "|  6|Frank|   Finance|  4800|             4900.0|\n",
            "|  1|Alice|        HR|  3000|             3250.0|\n",
            "|  3|Cathy|        HR|  3500|             3250.0|\n",
            "|  2|  Bob|        IT|  4000|             4250.0|\n",
            "|  4|David|        IT|  4500|             4250.0|\n",
            "+---+-----+----------+------+-------------------+\n",
            "\n"
          ]
        }
      ]
    },
    {
      "cell_type": "markdown",
      "source": [
        "## Complex Nested Schemas Handling"
      ],
      "metadata": {
        "id": "2mPR-sWAi4zz"
      }
    },
    {
      "cell_type": "code",
      "source": [
        "from pyspark.sql import SparkSession\n",
        "from pyspark.sql.functions import explode\n",
        "\n",
        "spark = SparkSession.builder.appName(\"AdvancedOps\").getOrCreate()\n",
        "\n",
        "data = [\n",
        "    (\"John\", [\"Python\", \"Java\"]),\n",
        "    (\"Jane\", [\"SQL\", \"R\", \"Scala\"]),\n",
        "    (\"Mike\", [])\n",
        "]\n",
        "columns = [\"Name\", \"Skills\"]\n",
        "\n",
        "df = spark.createDataFrame(data, columns)\n",
        "df.show(truncate=False)"
      ],
      "metadata": {
        "colab": {
          "base_uri": "https://localhost:8080/"
        },
        "id": "GR6AZRG8i8lR",
        "outputId": "90ded952-3c38-46d9-afe3-6064c088f2c5"
      },
      "execution_count": null,
      "outputs": [
        {
          "output_type": "stream",
          "name": "stdout",
          "text": [
            "+----+---------------+\n",
            "|Name|Skills         |\n",
            "+----+---------------+\n",
            "|John|[Python, Java] |\n",
            "|Jane|[SQL, R, Scala]|\n",
            "|Mike|[]             |\n",
            "+----+---------------+\n",
            "\n"
          ]
        }
      ]
    },
    {
      "cell_type": "code",
      "source": [
        "df_exploded = df.withColumn(\"Skill\", explode(df.Skills))\n",
        "df_exploded.show()"
      ],
      "metadata": {
        "colab": {
          "base_uri": "https://localhost:8080/"
        },
        "id": "icgcOcRakBaA",
        "outputId": "a5580369-acde-45db-9758-026faa15bb63"
      },
      "execution_count": null,
      "outputs": [
        {
          "output_type": "stream",
          "name": "stdout",
          "text": [
            "+----+---------------+------+\n",
            "|Name|         Skills| Skill|\n",
            "+----+---------------+------+\n",
            "|John| [Python, Java]|Python|\n",
            "|John| [Python, Java]|  Java|\n",
            "|Jane|[SQL, R, Scala]|   SQL|\n",
            "|Jane|[SQL, R, Scala]|     R|\n",
            "|Jane|[SQL, R, Scala]| Scala|\n",
            "+----+---------------+------+\n",
            "\n"
          ]
        }
      ]
    },
    {
      "cell_type": "code",
      "source": [
        "df.createOrReplaceTempView(\"people\")\n"
      ],
      "metadata": {
        "id": "BSVaIu2xkGp2"
      },
      "execution_count": null,
      "outputs": []
    },
    {
      "cell_type": "code",
      "source": [
        "df_lateral =spark.sql(\"\"\" Select Name, Skill from people lateral view explode(Skills) as Skill\"\"\")\n",
        "df_lateral.show()"
      ],
      "metadata": {
        "colab": {
          "base_uri": "https://localhost:8080/"
        },
        "id": "uJiAe2m0lchs",
        "outputId": "b9ffd00e-0c58-4439-826f-09a88b2a3306"
      },
      "execution_count": null,
      "outputs": [
        {
          "output_type": "stream",
          "name": "stdout",
          "text": [
            "+----+------+\n",
            "|Name| Skill|\n",
            "+----+------+\n",
            "|John|Python|\n",
            "|John|  Java|\n",
            "|Jane|   SQL|\n",
            "|Jane|     R|\n",
            "|Jane| Scala|\n",
            "+----+------+\n",
            "\n"
          ]
        }
      ]
    },
    {
      "cell_type": "markdown",
      "source": [
        "## Pivot and UnPivot operations"
      ],
      "metadata": {
        "id": "xze4KjHfywH1"
      }
    },
    {
      "cell_type": "code",
      "source": [
        "data = [\n",
        "    (\"ProductA\", \"Jan\", 100),\n",
        "    (\"ProductA\", \"Feb\", 150),\n",
        "    (\"ProductA\", \"Mar\", 120),\n",
        "    (\"ProductB\", \"Jan\", 200),\n",
        "    (\"ProductB\", \"Feb\", 230),\n",
        "    (\"ProductB\", \"Mar\", 210),\n",
        "]\n",
        "columns = [\"Product\", \"Month\", \"Sales\"]\n",
        "\n",
        "df = spark.createDataFrame(data, columns)\n",
        "df.show()"
      ],
      "metadata": {
        "id": "Wlp_wI71lseg",
        "colab": {
          "base_uri": "https://localhost:8080/"
        },
        "outputId": "294a6e51-3a97-4b4e-de7e-a5c3f19acbde"
      },
      "execution_count": 13,
      "outputs": [
        {
          "output_type": "stream",
          "name": "stdout",
          "text": [
            "+--------+-----+-----+\n",
            "| Product|Month|Sales|\n",
            "+--------+-----+-----+\n",
            "|ProductA|  Jan|  100|\n",
            "|ProductA|  Feb|  150|\n",
            "|ProductA|  Mar|  120|\n",
            "|ProductB|  Jan|  200|\n",
            "|ProductB|  Feb|  230|\n",
            "|ProductB|  Mar|  210|\n",
            "+--------+-----+-----+\n",
            "\n"
          ]
        }
      ]
    },
    {
      "cell_type": "code",
      "source": [
        "pivot_df=df.groupBy(\"Product\").pivot(\"Month\").sum(\"Sales\")\n",
        "pivot_df.show()"
      ],
      "metadata": {
        "colab": {
          "base_uri": "https://localhost:8080/"
        },
        "id": "Qmtqn24zySDE",
        "outputId": "5df97283-07b8-4cf8-dccd-9981dfffd003"
      },
      "execution_count": 14,
      "outputs": [
        {
          "output_type": "stream",
          "name": "stdout",
          "text": [
            "+--------+---+---+---+\n",
            "| Product|Feb|Jan|Mar|\n",
            "+--------+---+---+---+\n",
            "|ProductB|230|200|210|\n",
            "|ProductA|150|100|120|\n",
            "+--------+---+---+---+\n",
            "\n"
          ]
        }
      ]
    },
    {
      "cell_type": "code",
      "source": [
        "wide_df = df.groupBy(\"Product\").pivot(\"Month\").sum(\"Sales\")\n",
        "unpivot_df = wide_df.selectExpr(\"Product\",\"stack(3,'Jan',Jan,'Feb',Feb,'Mar',Mar) as (Month,Sales)\")\n",
        "unpivot_df.show()"
      ],
      "metadata": {
        "colab": {
          "base_uri": "https://localhost:8080/"
        },
        "id": "kLJeW_4ryfDJ",
        "outputId": "15aa9cf9-0095-4462-90df-cc854ba5d677"
      },
      "execution_count": 15,
      "outputs": [
        {
          "output_type": "stream",
          "name": "stdout",
          "text": [
            "+--------+-----+-----+\n",
            "| Product|Month|Sales|\n",
            "+--------+-----+-----+\n",
            "|ProductB|  Jan|  200|\n",
            "|ProductB|  Feb|  230|\n",
            "|ProductB|  Mar|  210|\n",
            "|ProductA|  Jan|  100|\n",
            "|ProductA|  Feb|  150|\n",
            "|ProductA|  Mar|  120|\n",
            "+--------+-----+-----+\n",
            "\n"
          ]
        }
      ]
    },
    {
      "cell_type": "code",
      "source": [],
      "metadata": {
        "id": "itHBly2t0UCB"
      },
      "execution_count": null,
      "outputs": []
    }
  ]
}