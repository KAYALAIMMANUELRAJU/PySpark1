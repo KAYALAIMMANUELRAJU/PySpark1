{
  "nbformat": 4,
  "nbformat_minor": 0,
  "metadata": {
    "colab": {
      "provenance": [],
      "authorship_tag": "ABX9TyPeT/IusJju6wkJ2p6xfSYw",
      "include_colab_link": true
    },
    "kernelspec": {
      "name": "python3",
      "display_name": "Python 3"
    },
    "language_info": {
      "name": "python"
    }
  },
  "cells": [
    {
      "cell_type": "markdown",
      "metadata": {
        "id": "view-in-github",
        "colab_type": "text"
      },
      "source": [
        "<a href=\"https://colab.research.google.com/github/KAYALAIMMANUELRAJU/PySpark1/blob/main/product_analytics_classicmodels.ipynb\" target=\"_parent\"><img src=\"https://colab.research.google.com/assets/colab-badge.svg\" alt=\"Open In Colab\"/></a>"
      ]
    },
    {
      "cell_type": "markdown",
      "source": [
        "## Case Study"
      ],
      "metadata": {
        "id": "jVgnPEvMhrZo"
      }
    },
    {
      "cell_type": "code",
      "execution_count": 1,
      "metadata": {
        "colab": {
          "base_uri": "https://localhost:8080/"
        },
        "id": "IGv2BxCWgNqY",
        "outputId": "561f83c6-874c-4a03-8aa1-636d92b3f9e7"
      },
      "outputs": [
        {
          "output_type": "stream",
          "name": "stdout",
          "text": [
            "✅ Spark Version: 3.5.1\n"
          ]
        }
      ],
      "source": [
        "from pyspark.sql import SparkSession\n",
        "\n",
        "spark = SparkSession.builder \\\n",
        "    .appName(\"ClassicModelsProductAnalytics\") \\\n",
        "    .getOrCreate()\n",
        "\n",
        "print(\"✅ Spark Version:\", spark.version)"
      ]
    },
    {
      "cell_type": "code",
      "source": [
        "from google.colab import files\n",
        "uploaded = files.upload()"
      ],
      "metadata": {
        "colab": {
          "base_uri": "https://localhost:8080/",
          "height": 74
        },
        "id": "j2uhABaEgSGE",
        "outputId": "6deec06f-2fd7-4d7e-b49b-a5b387111859"
      },
      "execution_count": 2,
      "outputs": [
        {
          "output_type": "display_data",
          "data": {
            "text/plain": [
              "<IPython.core.display.HTML object>"
            ],
            "text/html": [
              "\n",
              "     <input type=\"file\" id=\"files-a713f993-e1c6-465c-ac66-37e7112e0087\" name=\"files[]\" multiple disabled\n",
              "        style=\"border:none\" />\n",
              "     <output id=\"result-a713f993-e1c6-465c-ac66-37e7112e0087\">\n",
              "      Upload widget is only available when the cell has been executed in the\n",
              "      current browser session. Please rerun this cell to enable.\n",
              "      </output>\n",
              "      <script>// Copyright 2017 Google LLC\n",
              "//\n",
              "// Licensed under the Apache License, Version 2.0 (the \"License\");\n",
              "// you may not use this file except in compliance with the License.\n",
              "// You may obtain a copy of the License at\n",
              "//\n",
              "//      http://www.apache.org/licenses/LICENSE-2.0\n",
              "//\n",
              "// Unless required by applicable law or agreed to in writing, software\n",
              "// distributed under the License is distributed on an \"AS IS\" BASIS,\n",
              "// WITHOUT WARRANTIES OR CONDITIONS OF ANY KIND, either express or implied.\n",
              "// See the License for the specific language governing permissions and\n",
              "// limitations under the License.\n",
              "\n",
              "/**\n",
              " * @fileoverview Helpers for google.colab Python module.\n",
              " */\n",
              "(function(scope) {\n",
              "function span(text, styleAttributes = {}) {\n",
              "  const element = document.createElement('span');\n",
              "  element.textContent = text;\n",
              "  for (const key of Object.keys(styleAttributes)) {\n",
              "    element.style[key] = styleAttributes[key];\n",
              "  }\n",
              "  return element;\n",
              "}\n",
              "\n",
              "// Max number of bytes which will be uploaded at a time.\n",
              "const MAX_PAYLOAD_SIZE = 100 * 1024;\n",
              "\n",
              "function _uploadFiles(inputId, outputId) {\n",
              "  const steps = uploadFilesStep(inputId, outputId);\n",
              "  const outputElement = document.getElementById(outputId);\n",
              "  // Cache steps on the outputElement to make it available for the next call\n",
              "  // to uploadFilesContinue from Python.\n",
              "  outputElement.steps = steps;\n",
              "\n",
              "  return _uploadFilesContinue(outputId);\n",
              "}\n",
              "\n",
              "// This is roughly an async generator (not supported in the browser yet),\n",
              "// where there are multiple asynchronous steps and the Python side is going\n",
              "// to poll for completion of each step.\n",
              "// This uses a Promise to block the python side on completion of each step,\n",
              "// then passes the result of the previous step as the input to the next step.\n",
              "function _uploadFilesContinue(outputId) {\n",
              "  const outputElement = document.getElementById(outputId);\n",
              "  const steps = outputElement.steps;\n",
              "\n",
              "  const next = steps.next(outputElement.lastPromiseValue);\n",
              "  return Promise.resolve(next.value.promise).then((value) => {\n",
              "    // Cache the last promise value to make it available to the next\n",
              "    // step of the generator.\n",
              "    outputElement.lastPromiseValue = value;\n",
              "    return next.value.response;\n",
              "  });\n",
              "}\n",
              "\n",
              "/**\n",
              " * Generator function which is called between each async step of the upload\n",
              " * process.\n",
              " * @param {string} inputId Element ID of the input file picker element.\n",
              " * @param {string} outputId Element ID of the output display.\n",
              " * @return {!Iterable<!Object>} Iterable of next steps.\n",
              " */\n",
              "function* uploadFilesStep(inputId, outputId) {\n",
              "  const inputElement = document.getElementById(inputId);\n",
              "  inputElement.disabled = false;\n",
              "\n",
              "  const outputElement = document.getElementById(outputId);\n",
              "  outputElement.innerHTML = '';\n",
              "\n",
              "  const pickedPromise = new Promise((resolve) => {\n",
              "    inputElement.addEventListener('change', (e) => {\n",
              "      resolve(e.target.files);\n",
              "    });\n",
              "  });\n",
              "\n",
              "  const cancel = document.createElement('button');\n",
              "  inputElement.parentElement.appendChild(cancel);\n",
              "  cancel.textContent = 'Cancel upload';\n",
              "  const cancelPromise = new Promise((resolve) => {\n",
              "    cancel.onclick = () => {\n",
              "      resolve(null);\n",
              "    };\n",
              "  });\n",
              "\n",
              "  // Wait for the user to pick the files.\n",
              "  const files = yield {\n",
              "    promise: Promise.race([pickedPromise, cancelPromise]),\n",
              "    response: {\n",
              "      action: 'starting',\n",
              "    }\n",
              "  };\n",
              "\n",
              "  cancel.remove();\n",
              "\n",
              "  // Disable the input element since further picks are not allowed.\n",
              "  inputElement.disabled = true;\n",
              "\n",
              "  if (!files) {\n",
              "    return {\n",
              "      response: {\n",
              "        action: 'complete',\n",
              "      }\n",
              "    };\n",
              "  }\n",
              "\n",
              "  for (const file of files) {\n",
              "    const li = document.createElement('li');\n",
              "    li.append(span(file.name, {fontWeight: 'bold'}));\n",
              "    li.append(span(\n",
              "        `(${file.type || 'n/a'}) - ${file.size} bytes, ` +\n",
              "        `last modified: ${\n",
              "            file.lastModifiedDate ? file.lastModifiedDate.toLocaleDateString() :\n",
              "                                    'n/a'} - `));\n",
              "    const percent = span('0% done');\n",
              "    li.appendChild(percent);\n",
              "\n",
              "    outputElement.appendChild(li);\n",
              "\n",
              "    const fileDataPromise = new Promise((resolve) => {\n",
              "      const reader = new FileReader();\n",
              "      reader.onload = (e) => {\n",
              "        resolve(e.target.result);\n",
              "      };\n",
              "      reader.readAsArrayBuffer(file);\n",
              "    });\n",
              "    // Wait for the data to be ready.\n",
              "    let fileData = yield {\n",
              "      promise: fileDataPromise,\n",
              "      response: {\n",
              "        action: 'continue',\n",
              "      }\n",
              "    };\n",
              "\n",
              "    // Use a chunked sending to avoid message size limits. See b/62115660.\n",
              "    let position = 0;\n",
              "    do {\n",
              "      const length = Math.min(fileData.byteLength - position, MAX_PAYLOAD_SIZE);\n",
              "      const chunk = new Uint8Array(fileData, position, length);\n",
              "      position += length;\n",
              "\n",
              "      const base64 = btoa(String.fromCharCode.apply(null, chunk));\n",
              "      yield {\n",
              "        response: {\n",
              "          action: 'append',\n",
              "          file: file.name,\n",
              "          data: base64,\n",
              "        },\n",
              "      };\n",
              "\n",
              "      let percentDone = fileData.byteLength === 0 ?\n",
              "          100 :\n",
              "          Math.round((position / fileData.byteLength) * 100);\n",
              "      percent.textContent = `${percentDone}% done`;\n",
              "\n",
              "    } while (position < fileData.byteLength);\n",
              "  }\n",
              "\n",
              "  // All done.\n",
              "  yield {\n",
              "    response: {\n",
              "      action: 'complete',\n",
              "    }\n",
              "  };\n",
              "}\n",
              "\n",
              "scope.google = scope.google || {};\n",
              "scope.google.colab = scope.google.colab || {};\n",
              "scope.google.colab._files = {\n",
              "  _uploadFiles,\n",
              "  _uploadFilesContinue,\n",
              "};\n",
              "})(self);\n",
              "</script> "
            ]
          },
          "metadata": {}
        },
        {
          "output_type": "stream",
          "name": "stdout",
          "text": [
            "Saving classicmodels_data.zip to classicmodels_data.zip\n"
          ]
        }
      ]
    },
    {
      "cell_type": "code",
      "source": [
        "import zipfile\n",
        "import os\n",
        "\n",
        "with zipfile.ZipFile(\"classicmodels_data.zip\", 'r') as zip_ref:\n",
        "    zip_ref.extractall(\"classicmodels_data\")  # Extract to a folder\n",
        "\n",
        "# List extracted files\n",
        "os.listdir(\"classicmodels_data\")"
      ],
      "metadata": {
        "id": "U7VtHClagblA"
      },
      "execution_count": null,
      "outputs": []
    },
    {
      "cell_type": "code",
      "source": [
        "base_path = \"classicmodels_data/\"\n",
        "\n",
        "df_customers      = spark.read.option(\"header\", \"true\").csv(base_path + \"customers.csv\", inferSchema=True)\n",
        "df_employees      = spark.read.option(\"header\", \"true\").csv(base_path + \"employees.csv\", inferSchema=True)\n",
        "df_offices        = spark.read.option(\"header\", \"true\").csv(base_path + \"offices.csv\", inferSchema=True)\n",
        "df_orderdetails   = spark.read.option(\"header\", \"true\").csv(base_path + \"orderdetails.csv\", inferSchema=True)\n",
        "df_orders         = spark.read.option(\"header\", \"true\").csv(base_path + \"orders.csv\", inferSchema=True)\n",
        "df_payments       = spark.read.option(\"header\", \"true\").csv(base_path + \"payments.csv\", inferSchema=True)\n",
        "df_productlines   = spark.read.option(\"header\", \"true\").csv(base_path + \"productlines.csv\", inferSchema=True)\n",
        "df_products       = spark.read.option(\"header\", \"true\").csv(base_path + \"products.csv\", inferSchema=True)"
      ],
      "metadata": {
        "id": "hjky0cengjZ4"
      },
      "execution_count": 7,
      "outputs": []
    },
    {
      "cell_type": "code",
      "source": [
        "df_products.printSchema()\n",
        "df_products.show(5)"
      ],
      "metadata": {
        "colab": {
          "base_uri": "https://localhost:8080/"
        },
        "collapsed": true,
        "id": "sz93DR6zgmPG",
        "outputId": "764f6a9f-b632-4335-d30a-48d8fe965d62"
      },
      "execution_count": 5,
      "outputs": [
        {
          "output_type": "stream",
          "name": "stdout",
          "text": [
            "root\n",
            " |-- productCode: string (nullable = true)\n",
            " |-- productName: string (nullable = true)\n",
            " |-- productLine: string (nullable = true)\n",
            " |-- productScale: string (nullable = true)\n",
            " |-- productVendor: string (nullable = true)\n",
            " |-- productDescription: string (nullable = true)\n",
            " |-- quantityInStock: string (nullable = true)\n",
            " |-- buyPrice: string (nullable = true)\n",
            " |-- MSRP: string (nullable = true)\n",
            "\n",
            "+-----------+--------------------+------------+------------+--------------------+--------------------+---------------+--------+------+\n",
            "|productCode|         productName| productLine|productScale|       productVendor|  productDescription|quantityInStock|buyPrice|  MSRP|\n",
            "+-----------+--------------------+------------+------------+--------------------+--------------------+---------------+--------+------+\n",
            "|   S10_1678|1969 Harley David...| Motorcycles|        1:10|     Min Lin Diecast|This replica feat...|           7933|   48.81|  95.7|\n",
            "|   S10_1949|1952 Alpine Renau...|Classic Cars|        1:10|Classic Metal Cre...|Turnable front wh...|           7305|   98.58| 214.3|\n",
            "|   S10_2016|1996 Moto Guzzi 1...| Motorcycles|        1:10|Highway 66 Mini C...|Official Moto Guz...|           6625|   68.99|118.94|\n",
            "|   S10_4698|2003 Harley-David...| Motorcycles|        1:10|   Red Start Diecast|Model features, o...|           5582|   91.02|193.66|\n",
            "|   S10_4757| 1972 Alfa Romeo GTA|Classic Cars|        1:10|Motor City Art Cl...|Features include:...|           3252|   85.68| 136.0|\n",
            "+-----------+--------------------+------------+------------+--------------------+--------------------+---------------+--------+------+\n",
            "only showing top 5 rows\n",
            "\n"
          ]
        }
      ]
    },
    {
      "cell_type": "code",
      "source": [
        "df_products.createOrReplaceTempView(\"products\")\n",
        "df_customers.createOrReplaceTempView(\"customers\")\n",
        "df_orders.createOrReplaceTempView(\"orders\")"
      ],
      "metadata": {
        "id": "H8IDIaidgomv"
      },
      "execution_count": 6,
      "outputs": []
    },
    {
      "cell_type": "code",
      "source": [
        "products = df_products.select(\"productCode\", \"productName\", \"productLine\", \"quantityInStock\", \"buyPrice\", \"MSRP\")\n",
        "customers = df_customers.select(\"customerNumber\", \"customerName\", \"contactLastName\", \"phone\", \"city\", \"creditLimit\")\n",
        "orders = df_orders.select(\"orderNumber\", \"customerNumber\", \"orderDate\", \"status\", \"comments\", \"shippedDate\")"
      ],
      "metadata": {
        "id": "sDIdffuhgqyS"
      },
      "execution_count": 8,
      "outputs": []
    },
    {
      "cell_type": "code",
      "source": [
        "products.show(5)\n",
        "customers.show(5)\n",
        "orders.show(5)"
      ],
      "metadata": {
        "colab": {
          "base_uri": "https://localhost:8080/"
        },
        "collapsed": true,
        "id": "AWtcbL3VgzVT",
        "outputId": "20476ada-46c3-447b-840a-6a7abb039e73"
      },
      "execution_count": 9,
      "outputs": [
        {
          "output_type": "stream",
          "name": "stdout",
          "text": [
            "+-----------+--------------------+------------+---------------+--------+------+\n",
            "|productCode|         productName| productLine|quantityInStock|buyPrice|  MSRP|\n",
            "+-----------+--------------------+------------+---------------+--------+------+\n",
            "|   S10_1678|1969 Harley David...| Motorcycles|           7933|   48.81|  95.7|\n",
            "|   S10_1949|1952 Alpine Renau...|Classic Cars|           7305|   98.58| 214.3|\n",
            "|   S10_2016|1996 Moto Guzzi 1...| Motorcycles|           6625|   68.99|118.94|\n",
            "|   S10_4698|2003 Harley-David...| Motorcycles|           5582|   91.02|193.66|\n",
            "|   S10_4757| 1972 Alfa Romeo GTA|Classic Cars|           3252|   85.68| 136.0|\n",
            "+-----------+--------------------+------------+---------------+--------+------+\n",
            "only showing top 5 rows\n",
            "\n",
            "+--------------+--------------------+---------------+------------+---------+-----------+\n",
            "|customerNumber|        customerName|contactLastName|       phone|     city|creditLimit|\n",
            "+--------------+--------------------+---------------+------------+---------+-----------+\n",
            "|           103|   Atelier graphique|        Schmitt|  40.32.2555|   Nantes|    21000.0|\n",
            "|           112|  Signal Gift Stores|           King|  7025551838|Las Vegas|    71800.0|\n",
            "|           114|Australian Collec...|       Ferguson|03 9520 4555|Melbourne|   117300.0|\n",
            "|           119|   La Rochelle Gifts|        Labrune|  40.67.8555|   Nantes|   118200.0|\n",
            "|           121|  Baane Mini Imports|     Bergulfsen|  07-98 9555|  Stavern|    81700.0|\n",
            "+--------------+--------------------+---------------+------------+---------+-----------+\n",
            "only showing top 5 rows\n",
            "\n",
            "+-----------+--------------+----------+-------+--------------------+-----------+\n",
            "|orderNumber|customerNumber| orderDate| status|            comments|shippedDate|\n",
            "+-----------+--------------+----------+-------+--------------------+-----------+\n",
            "|      10100|           363|2003-01-06|Shipped|                NULL| 2003-01-10|\n",
            "|      10101|           128|2003-01-09|Shipped|Check on availabi...| 2003-01-11|\n",
            "|      10102|           181|2003-01-10|Shipped|                NULL| 2003-01-14|\n",
            "|      10103|           121|2003-01-29|Shipped|                NULL| 2003-02-02|\n",
            "|      10104|           141|2003-01-31|Shipped|                NULL| 2003-02-01|\n",
            "+-----------+--------------+----------+-------+--------------------+-----------+\n",
            "only showing top 5 rows\n",
            "\n"
          ]
        }
      ]
    },
    {
      "cell_type": "code",
      "source": [
        "spark.sql(\"\"\"\n",
        "    CREATE OR REPLACE TEMP VIEW products_table AS\n",
        "    SELECT productCode, productName, productLine, quantityInStock, buyPrice, MSRP\n",
        "    FROM products\n",
        "\"\"\")"
      ],
      "metadata": {
        "colab": {
          "base_uri": "https://localhost:8080/"
        },
        "id": "HsmF3qaDg1SW",
        "outputId": "2da092f3-0285-4904-9660-df146815da25"
      },
      "execution_count": 10,
      "outputs": [
        {
          "output_type": "execute_result",
          "data": {
            "text/plain": [
              "DataFrame[]"
            ]
          },
          "metadata": {},
          "execution_count": 10
        }
      ]
    },
    {
      "cell_type": "code",
      "source": [
        "spark.sql(\"\"\"\n",
        "    CREATE OR REPLACE TEMP VIEW customers_table AS\n",
        "    SELECT customerNumber, customerName, contactLastName, phone, city, creditLimit\n",
        "    FROM customers\n",
        "\"\"\")"
      ],
      "metadata": {
        "colab": {
          "base_uri": "https://localhost:8080/"
        },
        "id": "MzN1NIGhg4ul",
        "outputId": "da64977c-cc25-4ba2-db53-6d6369af870d"
      },
      "execution_count": 11,
      "outputs": [
        {
          "output_type": "execute_result",
          "data": {
            "text/plain": [
              "DataFrame[]"
            ]
          },
          "metadata": {},
          "execution_count": 11
        }
      ]
    },
    {
      "cell_type": "code",
      "source": [
        "spark.sql(\"\"\"\n",
        "    CREATE OR REPLACE TEMP VIEW orders_table AS\n",
        "    SELECT orderNumber, customerNumber, orderDate, status, comments, shippedDate\n",
        "    FROM orders\n",
        "\"\"\")"
      ],
      "metadata": {
        "colab": {
          "base_uri": "https://localhost:8080/"
        },
        "id": "dTP7lbHug6tJ",
        "outputId": "748d2cdb-823a-4edf-bf10-7fd0e0e3035f"
      },
      "execution_count": 12,
      "outputs": [
        {
          "output_type": "execute_result",
          "data": {
            "text/plain": [
              "DataFrame[]"
            ]
          },
          "metadata": {},
          "execution_count": 12
        }
      ]
    },
    {
      "cell_type": "code",
      "source": [
        "spark.sql(\"SELECT * FROM products_table\").show(5)\n",
        "spark.sql(\"SELECT * FROM customers_table\").show(5)\n",
        "spark.sql(\"SELECT * FROM orders_table\").show(5)"
      ],
      "metadata": {
        "colab": {
          "base_uri": "https://localhost:8080/"
        },
        "collapsed": true,
        "id": "J7G_pMLrg8aS",
        "outputId": "06c19213-da99-4585-ecfc-84c3a17923dc"
      },
      "execution_count": 13,
      "outputs": [
        {
          "output_type": "stream",
          "name": "stdout",
          "text": [
            "+-----------+--------------------+------------+---------------+--------+------+\n",
            "|productCode|         productName| productLine|quantityInStock|buyPrice|  MSRP|\n",
            "+-----------+--------------------+------------+---------------+--------+------+\n",
            "|   S10_1678|1969 Harley David...| Motorcycles|           7933|   48.81|  95.7|\n",
            "|   S10_1949|1952 Alpine Renau...|Classic Cars|           7305|   98.58| 214.3|\n",
            "|   S10_2016|1996 Moto Guzzi 1...| Motorcycles|           6625|   68.99|118.94|\n",
            "|   S10_4698|2003 Harley-David...| Motorcycles|           5582|   91.02|193.66|\n",
            "|   S10_4757| 1972 Alfa Romeo GTA|Classic Cars|           3252|   85.68| 136.0|\n",
            "+-----------+--------------------+------------+---------------+--------+------+\n",
            "only showing top 5 rows\n",
            "\n",
            "+--------------+--------------------+---------------+------------+---------+-----------+\n",
            "|customerNumber|        customerName|contactLastName|       phone|     city|creditLimit|\n",
            "+--------------+--------------------+---------------+------------+---------+-----------+\n",
            "|           103|   Atelier graphique|        Schmitt|  40.32.2555|   Nantes|    21000.0|\n",
            "|           112|  Signal Gift Stores|           King|  7025551838|Las Vegas|    71800.0|\n",
            "|           114|Australian Collec...|       Ferguson|03 9520 4555|Melbourne|   117300.0|\n",
            "|           119|   La Rochelle Gifts|        Labrune|  40.67.8555|   Nantes|   118200.0|\n",
            "|           121|  Baane Mini Imports|     Bergulfsen|  07-98 9555|  Stavern|    81700.0|\n",
            "+--------------+--------------------+---------------+------------+---------+-----------+\n",
            "only showing top 5 rows\n",
            "\n",
            "+-----------+--------------+----------+-------+--------------------+-----------+\n",
            "|orderNumber|customerNumber| orderDate| status|            comments|shippedDate|\n",
            "+-----------+--------------+----------+-------+--------------------+-----------+\n",
            "|      10100|           363|2003-01-06|Shipped|                NULL| 2003-01-10|\n",
            "|      10101|           128|2003-01-09|Shipped|Check on availabi...| 2003-01-11|\n",
            "|      10102|           181|2003-01-10|Shipped|                NULL| 2003-01-14|\n",
            "|      10103|           121|2003-01-29|Shipped|                NULL| 2003-02-02|\n",
            "|      10104|           141|2003-01-31|Shipped|                NULL| 2003-02-01|\n",
            "+-----------+--------------+----------+-------+--------------------+-----------+\n",
            "only showing top 5 rows\n",
            "\n"
          ]
        }
      ]
    },
    {
      "cell_type": "code",
      "source": [
        "# Display 3 sample products\n",
        "spark.sql(\"SELECT * FROM products_table LIMIT 3\").show()\n",
        "\n",
        "# Display 3 sample customers\n",
        "spark.sql(\"SELECT * FROM customers_table LIMIT 3\").show()\n",
        "\n",
        "# Display 3 sample orders\n",
        "spark.sql(\"SELECT * FROM orders_table LIMIT 3\").show()"
      ],
      "metadata": {
        "collapsed": true,
        "colab": {
          "base_uri": "https://localhost:8080/"
        },
        "id": "YB9mhthug-Jg",
        "outputId": "3c500d0a-5cb7-4df2-affc-7e2b608082ed"
      },
      "execution_count": 14,
      "outputs": [
        {
          "output_type": "stream",
          "name": "stdout",
          "text": [
            "+-----------+--------------------+------------+---------------+--------+------+\n",
            "|productCode|         productName| productLine|quantityInStock|buyPrice|  MSRP|\n",
            "+-----------+--------------------+------------+---------------+--------+------+\n",
            "|   S10_1678|1969 Harley David...| Motorcycles|           7933|   48.81|  95.7|\n",
            "|   S10_1949|1952 Alpine Renau...|Classic Cars|           7305|   98.58| 214.3|\n",
            "|   S10_2016|1996 Moto Guzzi 1...| Motorcycles|           6625|   68.99|118.94|\n",
            "+-----------+--------------------+------------+---------------+--------+------+\n",
            "\n",
            "+--------------+--------------------+---------------+------------+---------+-----------+\n",
            "|customerNumber|        customerName|contactLastName|       phone|     city|creditLimit|\n",
            "+--------------+--------------------+---------------+------------+---------+-----------+\n",
            "|           103|   Atelier graphique|        Schmitt|  40.32.2555|   Nantes|    21000.0|\n",
            "|           112|  Signal Gift Stores|           King|  7025551838|Las Vegas|    71800.0|\n",
            "|           114|Australian Collec...|       Ferguson|03 9520 4555|Melbourne|   117300.0|\n",
            "+--------------+--------------------+---------------+------------+---------+-----------+\n",
            "\n",
            "+-----------+--------------+----------+-------+--------------------+-----------+\n",
            "|orderNumber|customerNumber| orderDate| status|            comments|shippedDate|\n",
            "+-----------+--------------+----------+-------+--------------------+-----------+\n",
            "|      10100|           363|2003-01-06|Shipped|                NULL| 2003-01-10|\n",
            "|      10101|           128|2003-01-09|Shipped|Check on availabi...| 2003-01-11|\n",
            "|      10102|           181|2003-01-10|Shipped|                NULL| 2003-01-14|\n",
            "+-----------+--------------+----------+-------+--------------------+-----------+\n",
            "\n"
          ]
        }
      ]
    },
    {
      "cell_type": "code",
      "source": [
        "df_orderdetails.createOrReplaceTempView(\"orderdetails\")"
      ],
      "metadata": {
        "id": "rK8bAAvPhBnZ"
      },
      "execution_count": 16,
      "outputs": []
    },
    {
      "cell_type": "code",
      "source": [
        "spark.sql(\"\"\"\n",
        "    SELECT\n",
        "        c.customerNumber,\n",
        "        c.customerName,\n",
        "        ROUND(SUM(od.quantityOrdered * od.priceEach), 2) AS total_order_value\n",
        "    FROM orders o\n",
        "    JOIN orderdetails od ON o.orderNumber = od.orderNumber\n",
        "    JOIN customers c ON o.customerNumber = c.customerNumber\n",
        "    GROUP BY c.customerNumber, c.customerName\n",
        "    ORDER BY total_order_value DESC\n",
        "\"\"\").show(10)"
      ],
      "metadata": {
        "collapsed": true,
        "colab": {
          "base_uri": "https://localhost:8080/"
        },
        "id": "x2ybW2n7hFy0",
        "outputId": "5ca315a3-c230-4748-fe19-1730ddd5d0ab"
      },
      "execution_count": 17,
      "outputs": [
        {
          "output_type": "stream",
          "name": "stdout",
          "text": [
            "+--------------+--------------------+-----------------+\n",
            "|customerNumber|        customerName|total_order_value|\n",
            "+--------------+--------------------+-----------------+\n",
            "|           141|Euro+ Shopping Ch...|        820689.54|\n",
            "|           124|Mini Gifts Distri...|        591827.34|\n",
            "|           114|Australian Collec...|        180585.07|\n",
            "|           151|  Muscle Machine Inc|        177913.95|\n",
            "|           119|   La Rochelle Gifts|        158573.12|\n",
            "|           148|Dragon Souveniers...|        156251.03|\n",
            "|           323|Down Under Souven...|        154622.08|\n",
            "|           131|   Land of Toys Inc.|        149085.15|\n",
            "|           187|      AV Stores, Co.|        148410.09|\n",
            "|           450|The Sharp Gifts W...|        143536.27|\n",
            "+--------------+--------------------+-----------------+\n",
            "only showing top 10 rows\n",
            "\n"
          ]
        }
      ]
    },
    {
      "cell_type": "code",
      "source": [
        "spark.sql(\"\"\"\n",
        "    SELECT productCode, productName, quantityInStock\n",
        "    FROM products\n",
        "    ORDER BY quantityInStock ASC\n",
        "    LIMIT 5\n",
        "\"\"\").show()"
      ],
      "metadata": {
        "colab": {
          "base_uri": "https://localhost:8080/"
        },
        "collapsed": true,
        "id": "w1G0GN8mhKqt",
        "outputId": "139a32bf-40ad-438c-db0b-a5c34299128b"
      },
      "execution_count": 18,
      "outputs": [
        {
          "output_type": "stream",
          "name": "stdout",
          "text": [
            "+-----------+--------------------+--------------------+\n",
            "|productCode|         productName|     quantityInStock|\n",
            "+-----------+--------------------+--------------------+\n",
            "|   S12_4473|   1957 Chevy Pickup|      Rubber wheels\"|\n",
            "|   S12_3148|  1969 Corvair Monza|          hood opens|\n",
            "|   S24_1444|  1970 Dodge Coronet| hood opens and r...|\n",
            "|  S700_2610|The USS Constitut...|   sea sprite on bow|\n",
            "|   S24_1046|1970 Chevy Chevel...|                1005|\n",
            "+-----------+--------------------+--------------------+\n",
            "\n"
          ]
        }
      ]
    },
    {
      "cell_type": "code",
      "source": [
        "df_payments.createOrReplaceTempView(\"payments\")"
      ],
      "metadata": {
        "id": "Vc6NZiV_hOW2"
      },
      "execution_count": 19,
      "outputs": []
    },
    {
      "cell_type": "code",
      "source": [
        "spark.sql(\"\"\"\n",
        "    SELECT\n",
        "        customerNumber,\n",
        "        ROUND(SUM(amount), 2) AS total_payment\n",
        "    FROM payments\n",
        "    GROUP BY customerNumber\n",
        "    ORDER BY total_payment DESC\n",
        "    LIMIT 5\n",
        "\"\"\").show()"
      ],
      "metadata": {
        "collapsed": true,
        "colab": {
          "base_uri": "https://localhost:8080/"
        },
        "id": "8hr2z4fphRZd",
        "outputId": "ce7f3bf2-947d-4b1d-af56-7210e9da9339"
      },
      "execution_count": 20,
      "outputs": [
        {
          "output_type": "stream",
          "name": "stdout",
          "text": [
            "+--------------+-------------+\n",
            "|customerNumber|total_payment|\n",
            "+--------------+-------------+\n",
            "|           141|    715738.98|\n",
            "|           124|    584188.24|\n",
            "|           114|    180585.07|\n",
            "|           151|    177913.95|\n",
            "|           148|    156251.03|\n",
            "+--------------+-------------+\n",
            "\n"
          ]
        }
      ]
    },
    {
      "cell_type": "code",
      "source": [
        "spark.sql(\"\"\"\n",
        "    SELECT\n",
        "        date_format(orderDate, 'yyyy-MM') AS month,\n",
        "        COUNT(orderNumber) AS total_orders\n",
        "    FROM orders\n",
        "    GROUP BY month\n",
        "    ORDER BY month\n",
        "\"\"\").show(12, truncate=False)"
      ],
      "metadata": {
        "colab": {
          "base_uri": "https://localhost:8080/"
        },
        "collapsed": true,
        "id": "i6vW4p2phS4B",
        "outputId": "7db779e9-4419-4ea7-df26-32c0ddcbf84f"
      },
      "execution_count": 21,
      "outputs": [
        {
          "output_type": "stream",
          "name": "stdout",
          "text": [
            "+-------+------------+\n",
            "|month  |total_orders|\n",
            "+-------+------------+\n",
            "|2003-01|5           |\n",
            "|2003-02|3           |\n",
            "|2003-03|6           |\n",
            "|2003-04|7           |\n",
            "|2003-05|6           |\n",
            "|2003-06|7           |\n",
            "|2003-07|7           |\n",
            "|2003-08|5           |\n",
            "|2003-09|8           |\n",
            "|2003-10|18          |\n",
            "|2003-11|30          |\n",
            "|2003-12|9           |\n",
            "+-------+------------+\n",
            "only showing top 12 rows\n",
            "\n"
          ]
        }
      ]
    },
    {
      "cell_type": "code",
      "source": [
        "spark.sql(\"\"\"\n",
        "    CREATE OR REPLACE TEMP VIEW high_value_customers AS\n",
        "    SELECT customerNumber, customerName, creditLimit\n",
        "    FROM customers\n",
        "    WHERE creditLimit > 100000\n",
        "\"\"\")"
      ],
      "metadata": {
        "colab": {
          "base_uri": "https://localhost:8080/"
        },
        "id": "sWoS60T3hVmT",
        "outputId": "b437e86d-6076-4acd-8738-fb061f402b12"
      },
      "execution_count": 22,
      "outputs": [
        {
          "output_type": "execute_result",
          "data": {
            "text/plain": [
              "DataFrame[]"
            ]
          },
          "metadata": {},
          "execution_count": 22
        }
      ]
    },
    {
      "cell_type": "code",
      "source": [
        "spark.sql(\"SELECT * FROM high_value_customers\").show()"
      ],
      "metadata": {
        "collapsed": true,
        "colab": {
          "base_uri": "https://localhost:8080/"
        },
        "id": "EYAFU4sWhYSB",
        "outputId": "23156614-6ef3-4db2-a5d9-d3cf1b71f835"
      },
      "execution_count": 23,
      "outputs": [
        {
          "output_type": "stream",
          "name": "stdout",
          "text": [
            "+--------------+--------------------+-----------+\n",
            "|customerNumber|        customerName|creditLimit|\n",
            "+--------------+--------------------+-----------+\n",
            "|           114|Australian Collec...|   117300.0|\n",
            "|           119|   La Rochelle Gifts|   118200.0|\n",
            "|           124|Mini Gifts Distri...|   210500.0|\n",
            "|           131|   Land of Toys Inc.|   114900.0|\n",
            "|           141|Euro+ Shopping Ch...|   227600.0|\n",
            "|           146|Saveley & Henriot...|   123900.0|\n",
            "|           148|Dragon Souveniers...|   103800.0|\n",
            "|           151|  Muscle Machine Inc|   138500.0|\n",
            "|           157|Diecast Classics ...|   100600.0|\n",
            "|           187|      AV Stores, Co.|   136800.0|\n",
            "|           227|Heintze Collectables|   120800.0|\n",
            "|           239|Collectable Mini ...|   105000.0|\n",
            "|           249|  Amica Models & Co.|   113000.0|\n",
            "|           259|Toms Spezialitäte...|   120400.0|\n",
            "|           276|Anna's Decoration...|   107800.0|\n",
            "|           278|       Rovelli Gifts|   119600.0|\n",
            "|           286|Marta's Replicas Co.|   123700.0|\n",
            "|           298|     Vida Sport, Ltd|   141300.0|\n",
            "|           319|       Mini Classics|   102700.0|\n",
            "|           321|Corporate Gift Id...|   105000.0|\n",
            "+--------------+--------------------+-----------+\n",
            "only showing top 20 rows\n",
            "\n"
          ]
        }
      ]
    },
    {
      "cell_type": "code",
      "source": [
        "order_value_df = spark.sql(\"\"\"\n",
        "    SELECT\n",
        "        c.customerNumber,\n",
        "        c.customerName,\n",
        "        ROUND(SUM(od.quantityOrdered * od.priceEach), 2) AS total_order_value\n",
        "    FROM orders o\n",
        "    JOIN orderdetails od ON o.orderNumber = od.orderNumber\n",
        "    JOIN customers c ON o.customerNumber = c.customerNumber\n",
        "    GROUP BY c.customerNumber, c.customerName\n",
        "    ORDER BY total_order_value DESC\n",
        "\"\"\")\n",
        "\n",
        "order_value_df.write.option(\"header\", \"true\").mode(\"overwrite\").csv(\"/content/output/order_value_by_customer\")"
      ],
      "metadata": {
        "id": "KtVJNokThaKD"
      },
      "execution_count": 24,
      "outputs": []
    },
    {
      "cell_type": "code",
      "source": [
        "top_customers_df = spark.sql(\"\"\"\n",
        "    SELECT\n",
        "        customerNumber,\n",
        "        ROUND(SUM(amount), 2) AS total_payment\n",
        "    FROM payments\n",
        "    GROUP BY customerNumber\n",
        "    ORDER BY total_payment DESC\n",
        "    LIMIT 5\n",
        "\"\"\")\n",
        "\n",
        "top_customers_df.write.option(\"header\", \"true\").mode(\"overwrite\").csv(\"/content/output/top_5_customers\")"
      ],
      "metadata": {
        "id": "CJWIjr1KhdLZ"
      },
      "execution_count": 25,
      "outputs": []
    },
    {
      "cell_type": "code",
      "source": [
        "!zip -r classicmodels_outputs.zip /content/output/\n",
        "from google.colab import files\n",
        "files.download(\"classicmodels_outputs.zip\")"
      ],
      "metadata": {
        "colab": {
          "base_uri": "https://localhost:8080/",
          "height": 213
        },
        "id": "ps84Y156hfij",
        "outputId": "2d56f038-6104-47a4-b8fd-0a0452563ba6"
      },
      "execution_count": 26,
      "outputs": [
        {
          "output_type": "stream",
          "name": "stdout",
          "text": [
            "  adding: content/output/ (stored 0%)\n",
            "  adding: content/output/top_5_customers/ (stored 0%)\n",
            "  adding: content/output/top_5_customers/._SUCCESS.crc (stored 0%)\n",
            "  adding: content/output/top_5_customers/part-00000-c3d4b5f4-4955-455b-9e0e-d15913cbe100-c000.csv (deflated 11%)\n",
            "  adding: content/output/top_5_customers/.part-00000-c3d4b5f4-4955-455b-9e0e-d15913cbe100-c000.csv.crc (stored 0%)\n",
            "  adding: content/output/top_5_customers/_SUCCESS (stored 0%)\n",
            "  adding: content/output/order_value_by_customer/ (stored 0%)\n",
            "  adding: content/output/order_value_by_customer/._SUCCESS.crc (stored 0%)\n",
            "  adding: content/output/order_value_by_customer/part-00000-eb1960ce-8fda-4226-81b3-07b9e951b479-c000.csv (deflated 47%)\n",
            "  adding: content/output/order_value_by_customer/_SUCCESS (stored 0%)\n",
            "  adding: content/output/order_value_by_customer/.part-00000-eb1960ce-8fda-4226-81b3-07b9e951b479-c000.csv.crc (stored 0%)\n"
          ]
        },
        {
          "output_type": "display_data",
          "data": {
            "text/plain": [
              "<IPython.core.display.Javascript object>"
            ],
            "application/javascript": [
              "\n",
              "    async function download(id, filename, size) {\n",
              "      if (!google.colab.kernel.accessAllowed) {\n",
              "        return;\n",
              "      }\n",
              "      const div = document.createElement('div');\n",
              "      const label = document.createElement('label');\n",
              "      label.textContent = `Downloading \"${filename}\": `;\n",
              "      div.appendChild(label);\n",
              "      const progress = document.createElement('progress');\n",
              "      progress.max = size;\n",
              "      div.appendChild(progress);\n",
              "      document.body.appendChild(div);\n",
              "\n",
              "      const buffers = [];\n",
              "      let downloaded = 0;\n",
              "\n",
              "      const channel = await google.colab.kernel.comms.open(id);\n",
              "      // Send a message to notify the kernel that we're ready.\n",
              "      channel.send({})\n",
              "\n",
              "      for await (const message of channel.messages) {\n",
              "        // Send a message to notify the kernel that we're ready.\n",
              "        channel.send({})\n",
              "        if (message.buffers) {\n",
              "          for (const buffer of message.buffers) {\n",
              "            buffers.push(buffer);\n",
              "            downloaded += buffer.byteLength;\n",
              "            progress.value = downloaded;\n",
              "          }\n",
              "        }\n",
              "      }\n",
              "      const blob = new Blob(buffers, {type: 'application/binary'});\n",
              "      const a = document.createElement('a');\n",
              "      a.href = window.URL.createObjectURL(blob);\n",
              "      a.download = filename;\n",
              "      div.appendChild(a);\n",
              "      a.click();\n",
              "      div.remove();\n",
              "    }\n",
              "  "
            ]
          },
          "metadata": {}
        },
        {
          "output_type": "display_data",
          "data": {
            "text/plain": [
              "<IPython.core.display.Javascript object>"
            ],
            "application/javascript": [
              "download(\"download_9ede8563-0b80-4642-baaf-b98d8632469e\", \"classicmodels_outputs.zip\", 4754)"
            ]
          },
          "metadata": {}
        }
      ]
    },
    {
      "cell_type": "code",
      "source": [],
      "metadata": {
        "id": "QvLVlZh9hhpo"
      },
      "execution_count": null,
      "outputs": []
    }
  ]
}